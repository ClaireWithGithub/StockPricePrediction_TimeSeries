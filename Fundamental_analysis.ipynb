{
 "cells": [
  {
   "cell_type": "code",
   "execution_count": 333,
   "metadata": {},
   "outputs": [],
   "source": [
    "import numpy as np\n",
    "import pandas as pd\n",
    "import matplotlib.pyplot as plt\n",
    "import seaborn as sns"
   ]
  },
  {
   "cell_type": "markdown",
   "metadata": {},
   "source": [
    "## Data processing "
   ]
  },
  {
   "cell_type": "code",
   "execution_count": 423,
   "metadata": {},
   "outputs": [],
   "source": [
    "df=pd.read_csv(\"fundamentals.csv\")\n",
    "y=pd.read_csv(\"y.csv\")"
   ]
  },
  {
   "cell_type": "code",
   "execution_count": 424,
   "metadata": {},
   "outputs": [
    {
     "data": {
      "text/plain": [
       "(1781, 79)"
      ]
     },
     "execution_count": 424,
     "metadata": {},
     "output_type": "execute_result"
    }
   ],
   "source": [
    "df.shape"
   ]
  },
  {
   "cell_type": "code",
   "execution_count": 426,
   "metadata": {},
   "outputs": [],
   "source": [
    "df[\"Period Ending\"]=pd.to_datetime(df[\"Period Ending\"])\n",
    "df[\"Period Ending\"]=df[\"Period Ending\"].dt.year"
   ]
  },
  {
   "cell_type": "code",
   "execution_count": 427,
   "metadata": {},
   "outputs": [],
   "source": [
    "df1=df.merge(y,left_on=[\"For Year\",\"Ticker Symbol\"],right_on=[\"year\",\"symbol\"],how=\"left\")"
   ]
  },
  {
   "cell_type": "code",
   "execution_count": 428,
   "metadata": {},
   "outputs": [],
   "source": [
    "df1.drop(columns=[\"For Year\",\"Ticker Symbol\",\"Unnamed: 0\",\"year\"],inplace=True)\n",
    "df1=df1.dropna()"
   ]
  },
  {
   "cell_type": "code",
   "execution_count": 429,
   "metadata": {},
   "outputs": [
    {
     "data": {
      "text/plain": [
       "False"
      ]
     },
     "execution_count": 429,
     "metadata": {},
     "output_type": "execute_result"
    }
   ],
   "source": [
    "df1.isnull().values.any()"
   ]
  },
  {
   "cell_type": "code",
   "execution_count": 430,
   "metadata": {},
   "outputs": [],
   "source": [
    "company=[]\n",
    "for i in range(len(df1.symbol.unique())):\n",
    "    company.append(i+1)"
   ]
  },
  {
   "cell_type": "code",
   "execution_count": 431,
   "metadata": {},
   "outputs": [],
   "source": [
    "dic=dict(zip(df1.symbol.unique(),company))"
   ]
  },
  {
   "cell_type": "code",
   "execution_count": 432,
   "metadata": {},
   "outputs": [],
   "source": [
    "name=[]\n",
    "for i in [28,38,40,43,45,73,74]:\n",
    "    name.append(col[i])"
   ]
  },
  {
   "cell_type": "code",
   "execution_count": 433,
   "metadata": {},
   "outputs": [],
   "source": [
    "df1[\"symbol\"].replace(dic,inplace=True)"
   ]
  },
  {
   "cell_type": "code",
   "execution_count": 434,
   "metadata": {},
   "outputs": [
    {
     "data": {
      "text/html": [
       "<div>\n",
       "<style scoped>\n",
       "    .dataframe tbody tr th:only-of-type {\n",
       "        vertical-align: middle;\n",
       "    }\n",
       "\n",
       "    .dataframe tbody tr th {\n",
       "        vertical-align: top;\n",
       "    }\n",
       "\n",
       "    .dataframe thead th {\n",
       "        text-align: right;\n",
       "    }\n",
       "</style>\n",
       "<table border=\"1\" class=\"dataframe\">\n",
       "  <thead>\n",
       "    <tr style=\"text-align: right;\">\n",
       "      <th></th>\n",
       "      <th>Period Ending</th>\n",
       "      <th>Accounts Payable</th>\n",
       "      <th>Accounts Receivable</th>\n",
       "      <th>Add'l income/expense items</th>\n",
       "      <th>After Tax ROE</th>\n",
       "      <th>Capital Expenditures</th>\n",
       "      <th>Capital Surplus</th>\n",
       "      <th>Cash Ratio</th>\n",
       "      <th>Cash and Cash Equivalents</th>\n",
       "      <th>Changes in Inventories</th>\n",
       "      <th>...</th>\n",
       "      <th>Total Revenue</th>\n",
       "      <th>Treasury Stock</th>\n",
       "      <th>Earnings Per Share</th>\n",
       "      <th>Estimated Shares Outstanding</th>\n",
       "      <th>symbol</th>\n",
       "      <th>open</th>\n",
       "      <th>close</th>\n",
       "      <th>low</th>\n",
       "      <th>high</th>\n",
       "      <th>volume</th>\n",
       "    </tr>\n",
       "  </thead>\n",
       "  <tbody>\n",
       "    <tr>\n",
       "      <th>0</th>\n",
       "      <td>2012</td>\n",
       "      <td>3.068000e+09</td>\n",
       "      <td>-222000000.0</td>\n",
       "      <td>-1.961000e+09</td>\n",
       "      <td>23.0</td>\n",
       "      <td>-1.888000e+09</td>\n",
       "      <td>4.695000e+09</td>\n",
       "      <td>53.0</td>\n",
       "      <td>1.330000e+09</td>\n",
       "      <td>0.0</td>\n",
       "      <td>...</td>\n",
       "      <td>2.485500e+10</td>\n",
       "      <td>-367000000.0</td>\n",
       "      <td>-5.60</td>\n",
       "      <td>3.350000e+08</td>\n",
       "      <td>1</td>\n",
       "      <td>10.478520</td>\n",
       "      <td>10.496160</td>\n",
       "      <td>10.246760</td>\n",
       "      <td>10.748760</td>\n",
       "      <td>7.769353e+06</td>\n",
       "    </tr>\n",
       "    <tr>\n",
       "      <th>1</th>\n",
       "      <td>2013</td>\n",
       "      <td>4.975000e+09</td>\n",
       "      <td>-93000000.0</td>\n",
       "      <td>-2.723000e+09</td>\n",
       "      <td>67.0</td>\n",
       "      <td>-3.114000e+09</td>\n",
       "      <td>1.059200e+10</td>\n",
       "      <td>75.0</td>\n",
       "      <td>2.175000e+09</td>\n",
       "      <td>0.0</td>\n",
       "      <td>...</td>\n",
       "      <td>2.674300e+10</td>\n",
       "      <td>0.0</td>\n",
       "      <td>-11.25</td>\n",
       "      <td>1.630222e+08</td>\n",
       "      <td>1</td>\n",
       "      <td>18.198929</td>\n",
       "      <td>18.187936</td>\n",
       "      <td>17.898254</td>\n",
       "      <td>18.502540</td>\n",
       "      <td>8.085908e+06</td>\n",
       "    </tr>\n",
       "    <tr>\n",
       "      <th>2</th>\n",
       "      <td>2014</td>\n",
       "      <td>4.668000e+09</td>\n",
       "      <td>-160000000.0</td>\n",
       "      <td>-1.500000e+08</td>\n",
       "      <td>143.0</td>\n",
       "      <td>-5.311000e+09</td>\n",
       "      <td>1.513500e+10</td>\n",
       "      <td>60.0</td>\n",
       "      <td>1.768000e+09</td>\n",
       "      <td>0.0</td>\n",
       "      <td>...</td>\n",
       "      <td>4.265000e+10</td>\n",
       "      <td>0.0</td>\n",
       "      <td>4.02</td>\n",
       "      <td>7.169154e+08</td>\n",
       "      <td>1</td>\n",
       "      <td>38.862183</td>\n",
       "      <td>38.923651</td>\n",
       "      <td>38.230000</td>\n",
       "      <td>39.549802</td>\n",
       "      <td>1.239314e+07</td>\n",
       "    </tr>\n",
       "    <tr>\n",
       "      <th>3</th>\n",
       "      <td>2015</td>\n",
       "      <td>5.102000e+09</td>\n",
       "      <td>352000000.0</td>\n",
       "      <td>-7.080000e+08</td>\n",
       "      <td>135.0</td>\n",
       "      <td>-6.151000e+09</td>\n",
       "      <td>1.159100e+10</td>\n",
       "      <td>51.0</td>\n",
       "      <td>1.085000e+09</td>\n",
       "      <td>0.0</td>\n",
       "      <td>...</td>\n",
       "      <td>4.099000e+10</td>\n",
       "      <td>0.0</td>\n",
       "      <td>11.39</td>\n",
       "      <td>6.681299e+08</td>\n",
       "      <td>1</td>\n",
       "      <td>45.184246</td>\n",
       "      <td>45.122103</td>\n",
       "      <td>44.447778</td>\n",
       "      <td>45.835714</td>\n",
       "      <td>1.155355e+07</td>\n",
       "    </tr>\n",
       "    <tr>\n",
       "      <th>4</th>\n",
       "      <td>2012</td>\n",
       "      <td>2.409453e+09</td>\n",
       "      <td>-89482000.0</td>\n",
       "      <td>6.000000e+05</td>\n",
       "      <td>32.0</td>\n",
       "      <td>-2.711820e+08</td>\n",
       "      <td>5.202150e+08</td>\n",
       "      <td>23.0</td>\n",
       "      <td>5.981110e+08</td>\n",
       "      <td>-260298000.0</td>\n",
       "      <td>...</td>\n",
       "      <td>6.205003e+09</td>\n",
       "      <td>-27095000.0</td>\n",
       "      <td>5.29</td>\n",
       "      <td>7.328355e+07</td>\n",
       "      <td>2</td>\n",
       "      <td>75.983320</td>\n",
       "      <td>76.074120</td>\n",
       "      <td>75.259200</td>\n",
       "      <td>76.822120</td>\n",
       "      <td>1.130570e+06</td>\n",
       "    </tr>\n",
       "  </tbody>\n",
       "</table>\n",
       "<p>5 rows × 82 columns</p>\n",
       "</div>"
      ],
      "text/plain": [
       "   Period Ending  Accounts Payable  Accounts Receivable  \\\n",
       "0           2012      3.068000e+09         -222000000.0   \n",
       "1           2013      4.975000e+09          -93000000.0   \n",
       "2           2014      4.668000e+09         -160000000.0   \n",
       "3           2015      5.102000e+09          352000000.0   \n",
       "4           2012      2.409453e+09          -89482000.0   \n",
       "\n",
       "   Add'l income/expense items  After Tax ROE  Capital Expenditures  \\\n",
       "0               -1.961000e+09           23.0         -1.888000e+09   \n",
       "1               -2.723000e+09           67.0         -3.114000e+09   \n",
       "2               -1.500000e+08          143.0         -5.311000e+09   \n",
       "3               -7.080000e+08          135.0         -6.151000e+09   \n",
       "4                6.000000e+05           32.0         -2.711820e+08   \n",
       "\n",
       "   Capital Surplus  Cash Ratio  Cash and Cash Equivalents  \\\n",
       "0     4.695000e+09        53.0               1.330000e+09   \n",
       "1     1.059200e+10        75.0               2.175000e+09   \n",
       "2     1.513500e+10        60.0               1.768000e+09   \n",
       "3     1.159100e+10        51.0               1.085000e+09   \n",
       "4     5.202150e+08        23.0               5.981110e+08   \n",
       "\n",
       "   Changes in Inventories      ...       Total Revenue  Treasury Stock  \\\n",
       "0                     0.0      ...        2.485500e+10    -367000000.0   \n",
       "1                     0.0      ...        2.674300e+10             0.0   \n",
       "2                     0.0      ...        4.265000e+10             0.0   \n",
       "3                     0.0      ...        4.099000e+10             0.0   \n",
       "4            -260298000.0      ...        6.205003e+09     -27095000.0   \n",
       "\n",
       "   Earnings Per Share  Estimated Shares Outstanding  symbol       open  \\\n",
       "0               -5.60                  3.350000e+08       1  10.478520   \n",
       "1              -11.25                  1.630222e+08       1  18.198929   \n",
       "2                4.02                  7.169154e+08       1  38.862183   \n",
       "3               11.39                  6.681299e+08       1  45.184246   \n",
       "4                5.29                  7.328355e+07       2  75.983320   \n",
       "\n",
       "       close        low       high        volume  \n",
       "0  10.496160  10.246760  10.748760  7.769353e+06  \n",
       "1  18.187936  17.898254  18.502540  8.085908e+06  \n",
       "2  38.923651  38.230000  39.549802  1.239314e+07  \n",
       "3  45.122103  44.447778  45.835714  1.155355e+07  \n",
       "4  76.074120  75.259200  76.822120  1.130570e+06  \n",
       "\n",
       "[5 rows x 82 columns]"
      ]
     },
     "execution_count": 434,
     "metadata": {},
     "output_type": "execute_result"
    }
   ],
   "source": [
    "df1.head()"
   ]
  },
  {
   "cell_type": "code",
   "execution_count": 435,
   "metadata": {},
   "outputs": [],
   "source": [
    "y=df1[[\"close\",\"symbol\",\"Period Ending\"]]\n",
    "y=y.set_index([\"symbol\",\"Period Ending\"])"
   ]
  },
  {
   "cell_type": "code",
   "execution_count": 436,
   "metadata": {},
   "outputs": [
    {
     "data": {
      "text/plain": [
       "1288"
      ]
     },
     "execution_count": 436,
     "metadata": {},
     "output_type": "execute_result"
    }
   ],
   "source": [
    "len(y)"
   ]
  },
  {
   "cell_type": "code",
   "execution_count": 437,
   "metadata": {},
   "outputs": [],
   "source": [
    "df1=df1.set_index([\"symbol\",\"Period Ending\"])\n",
    "X=df1.iloc[:,:75]"
   ]
  },
  {
   "cell_type": "code",
   "execution_count": 438,
   "metadata": {},
   "outputs": [
    {
     "data": {
      "text/plain": [
       "1288"
      ]
     },
     "execution_count": 438,
     "metadata": {},
     "output_type": "execute_result"
    }
   ],
   "source": [
    "len(X)"
   ]
  },
  {
   "cell_type": "code",
   "execution_count": 369,
   "metadata": {},
   "outputs": [
    {
     "data": {
      "text/html": [
       "<div>\n",
       "<style scoped>\n",
       "    .dataframe tbody tr th:only-of-type {\n",
       "        vertical-align: middle;\n",
       "    }\n",
       "\n",
       "    .dataframe tbody tr th {\n",
       "        vertical-align: top;\n",
       "    }\n",
       "\n",
       "    .dataframe thead th {\n",
       "        text-align: right;\n",
       "    }\n",
       "</style>\n",
       "<table border=\"1\" class=\"dataframe\">\n",
       "  <thead>\n",
       "    <tr style=\"text-align: right;\">\n",
       "      <th></th>\n",
       "      <th></th>\n",
       "      <th>Accounts Payable</th>\n",
       "      <th>Accounts Receivable</th>\n",
       "      <th>Add'l income/expense items</th>\n",
       "      <th>After Tax ROE</th>\n",
       "      <th>Capital Expenditures</th>\n",
       "      <th>Capital Surplus</th>\n",
       "      <th>Cash Ratio</th>\n",
       "      <th>Cash and Cash Equivalents</th>\n",
       "      <th>Changes in Inventories</th>\n",
       "      <th>Common Stocks</th>\n",
       "      <th>...</th>\n",
       "      <th>Total Assets</th>\n",
       "      <th>Total Current Assets</th>\n",
       "      <th>Total Current Liabilities</th>\n",
       "      <th>Total Equity</th>\n",
       "      <th>Total Liabilities</th>\n",
       "      <th>Total Liabilities &amp; Equity</th>\n",
       "      <th>Total Revenue</th>\n",
       "      <th>Treasury Stock</th>\n",
       "      <th>Earnings Per Share</th>\n",
       "      <th>Estimated Shares Outstanding</th>\n",
       "    </tr>\n",
       "    <tr>\n",
       "      <th>symbol</th>\n",
       "      <th>Period Ending</th>\n",
       "      <th></th>\n",
       "      <th></th>\n",
       "      <th></th>\n",
       "      <th></th>\n",
       "      <th></th>\n",
       "      <th></th>\n",
       "      <th></th>\n",
       "      <th></th>\n",
       "      <th></th>\n",
       "      <th></th>\n",
       "      <th></th>\n",
       "      <th></th>\n",
       "      <th></th>\n",
       "      <th></th>\n",
       "      <th></th>\n",
       "      <th></th>\n",
       "      <th></th>\n",
       "      <th></th>\n",
       "      <th></th>\n",
       "      <th></th>\n",
       "      <th></th>\n",
       "    </tr>\n",
       "  </thead>\n",
       "  <tbody>\n",
       "    <tr>\n",
       "      <th rowspan=\"4\" valign=\"top\">1</th>\n",
       "      <th>2012</th>\n",
       "      <td>3.068000e+09</td>\n",
       "      <td>-222000000.0</td>\n",
       "      <td>-1.961000e+09</td>\n",
       "      <td>23.0</td>\n",
       "      <td>-1.888000e+09</td>\n",
       "      <td>4.695000e+09</td>\n",
       "      <td>53.0</td>\n",
       "      <td>1.330000e+09</td>\n",
       "      <td>0.0</td>\n",
       "      <td>127000000.0</td>\n",
       "      <td>...</td>\n",
       "      <td>2.351000e+10</td>\n",
       "      <td>7.072000e+09</td>\n",
       "      <td>9.011000e+09</td>\n",
       "      <td>-7.987000e+09</td>\n",
       "      <td>2.489100e+10</td>\n",
       "      <td>1.690400e+10</td>\n",
       "      <td>2.485500e+10</td>\n",
       "      <td>-367000000.0</td>\n",
       "      <td>-5.60</td>\n",
       "      <td>3.350000e+08</td>\n",
       "    </tr>\n",
       "    <tr>\n",
       "      <th>2013</th>\n",
       "      <td>4.975000e+09</td>\n",
       "      <td>-93000000.0</td>\n",
       "      <td>-2.723000e+09</td>\n",
       "      <td>67.0</td>\n",
       "      <td>-3.114000e+09</td>\n",
       "      <td>1.059200e+10</td>\n",
       "      <td>75.0</td>\n",
       "      <td>2.175000e+09</td>\n",
       "      <td>0.0</td>\n",
       "      <td>5000000.0</td>\n",
       "      <td>...</td>\n",
       "      <td>4.227800e+10</td>\n",
       "      <td>1.432300e+10</td>\n",
       "      <td>1.380600e+10</td>\n",
       "      <td>-2.731000e+09</td>\n",
       "      <td>4.500900e+10</td>\n",
       "      <td>4.227800e+10</td>\n",
       "      <td>2.674300e+10</td>\n",
       "      <td>0.0</td>\n",
       "      <td>-11.25</td>\n",
       "      <td>1.630222e+08</td>\n",
       "    </tr>\n",
       "    <tr>\n",
       "      <th>2014</th>\n",
       "      <td>4.668000e+09</td>\n",
       "      <td>-160000000.0</td>\n",
       "      <td>-1.500000e+08</td>\n",
       "      <td>143.0</td>\n",
       "      <td>-5.311000e+09</td>\n",
       "      <td>1.513500e+10</td>\n",
       "      <td>60.0</td>\n",
       "      <td>1.768000e+09</td>\n",
       "      <td>0.0</td>\n",
       "      <td>7000000.0</td>\n",
       "      <td>...</td>\n",
       "      <td>4.322500e+10</td>\n",
       "      <td>1.175000e+10</td>\n",
       "      <td>1.340400e+10</td>\n",
       "      <td>2.021000e+09</td>\n",
       "      <td>4.120400e+10</td>\n",
       "      <td>4.322500e+10</td>\n",
       "      <td>4.265000e+10</td>\n",
       "      <td>0.0</td>\n",
       "      <td>4.02</td>\n",
       "      <td>7.169154e+08</td>\n",
       "    </tr>\n",
       "    <tr>\n",
       "      <th>2015</th>\n",
       "      <td>5.102000e+09</td>\n",
       "      <td>352000000.0</td>\n",
       "      <td>-7.080000e+08</td>\n",
       "      <td>135.0</td>\n",
       "      <td>-6.151000e+09</td>\n",
       "      <td>1.159100e+10</td>\n",
       "      <td>51.0</td>\n",
       "      <td>1.085000e+09</td>\n",
       "      <td>0.0</td>\n",
       "      <td>6000000.0</td>\n",
       "      <td>...</td>\n",
       "      <td>4.841500e+10</td>\n",
       "      <td>9.985000e+09</td>\n",
       "      <td>1.360500e+10</td>\n",
       "      <td>5.635000e+09</td>\n",
       "      <td>4.278000e+10</td>\n",
       "      <td>4.841500e+10</td>\n",
       "      <td>4.099000e+10</td>\n",
       "      <td>0.0</td>\n",
       "      <td>11.39</td>\n",
       "      <td>6.681299e+08</td>\n",
       "    </tr>\n",
       "    <tr>\n",
       "      <th>2</th>\n",
       "      <th>2012</th>\n",
       "      <td>2.409453e+09</td>\n",
       "      <td>-89482000.0</td>\n",
       "      <td>6.000000e+05</td>\n",
       "      <td>32.0</td>\n",
       "      <td>-2.711820e+08</td>\n",
       "      <td>5.202150e+08</td>\n",
       "      <td>23.0</td>\n",
       "      <td>5.981110e+08</td>\n",
       "      <td>-260298000.0</td>\n",
       "      <td>7000.0</td>\n",
       "      <td>...</td>\n",
       "      <td>4.613814e+09</td>\n",
       "      <td>3.184200e+09</td>\n",
       "      <td>2.559638e+09</td>\n",
       "      <td>1.210694e+09</td>\n",
       "      <td>3.403120e+09</td>\n",
       "      <td>4.613814e+09</td>\n",
       "      <td>6.205003e+09</td>\n",
       "      <td>-27095000.0</td>\n",
       "      <td>5.29</td>\n",
       "      <td>7.328355e+07</td>\n",
       "    </tr>\n",
       "  </tbody>\n",
       "</table>\n",
       "<p>5 rows × 75 columns</p>\n",
       "</div>"
      ],
      "text/plain": [
       "                      Accounts Payable  Accounts Receivable  \\\n",
       "symbol Period Ending                                          \n",
       "1      2012               3.068000e+09         -222000000.0   \n",
       "       2013               4.975000e+09          -93000000.0   \n",
       "       2014               4.668000e+09         -160000000.0   \n",
       "       2015               5.102000e+09          352000000.0   \n",
       "2      2012               2.409453e+09          -89482000.0   \n",
       "\n",
       "                      Add'l income/expense items  After Tax ROE  \\\n",
       "symbol Period Ending                                              \n",
       "1      2012                        -1.961000e+09           23.0   \n",
       "       2013                        -2.723000e+09           67.0   \n",
       "       2014                        -1.500000e+08          143.0   \n",
       "       2015                        -7.080000e+08          135.0   \n",
       "2      2012                         6.000000e+05           32.0   \n",
       "\n",
       "                      Capital Expenditures  Capital Surplus  Cash Ratio  \\\n",
       "symbol Period Ending                                                      \n",
       "1      2012                  -1.888000e+09     4.695000e+09        53.0   \n",
       "       2013                  -3.114000e+09     1.059200e+10        75.0   \n",
       "       2014                  -5.311000e+09     1.513500e+10        60.0   \n",
       "       2015                  -6.151000e+09     1.159100e+10        51.0   \n",
       "2      2012                  -2.711820e+08     5.202150e+08        23.0   \n",
       "\n",
       "                      Cash and Cash Equivalents  Changes in Inventories  \\\n",
       "symbol Period Ending                                                      \n",
       "1      2012                        1.330000e+09                     0.0   \n",
       "       2013                        2.175000e+09                     0.0   \n",
       "       2014                        1.768000e+09                     0.0   \n",
       "       2015                        1.085000e+09                     0.0   \n",
       "2      2012                        5.981110e+08            -260298000.0   \n",
       "\n",
       "                      Common Stocks              ...               \\\n",
       "symbol Period Ending                             ...                \n",
       "1      2012             127000000.0              ...                \n",
       "       2013               5000000.0              ...                \n",
       "       2014               7000000.0              ...                \n",
       "       2015               6000000.0              ...                \n",
       "2      2012                  7000.0              ...                \n",
       "\n",
       "                      Total Assets  Total Current Assets  \\\n",
       "symbol Period Ending                                       \n",
       "1      2012           2.351000e+10          7.072000e+09   \n",
       "       2013           4.227800e+10          1.432300e+10   \n",
       "       2014           4.322500e+10          1.175000e+10   \n",
       "       2015           4.841500e+10          9.985000e+09   \n",
       "2      2012           4.613814e+09          3.184200e+09   \n",
       "\n",
       "                      Total Current Liabilities  Total Equity  \\\n",
       "symbol Period Ending                                            \n",
       "1      2012                        9.011000e+09 -7.987000e+09   \n",
       "       2013                        1.380600e+10 -2.731000e+09   \n",
       "       2014                        1.340400e+10  2.021000e+09   \n",
       "       2015                        1.360500e+10  5.635000e+09   \n",
       "2      2012                        2.559638e+09  1.210694e+09   \n",
       "\n",
       "                      Total Liabilities  Total Liabilities & Equity  \\\n",
       "symbol Period Ending                                                  \n",
       "1      2012                2.489100e+10                1.690400e+10   \n",
       "       2013                4.500900e+10                4.227800e+10   \n",
       "       2014                4.120400e+10                4.322500e+10   \n",
       "       2015                4.278000e+10                4.841500e+10   \n",
       "2      2012                3.403120e+09                4.613814e+09   \n",
       "\n",
       "                      Total Revenue  Treasury Stock  Earnings Per Share  \\\n",
       "symbol Period Ending                                                      \n",
       "1      2012            2.485500e+10    -367000000.0               -5.60   \n",
       "       2013            2.674300e+10             0.0              -11.25   \n",
       "       2014            4.265000e+10             0.0                4.02   \n",
       "       2015            4.099000e+10             0.0               11.39   \n",
       "2      2012            6.205003e+09     -27095000.0                5.29   \n",
       "\n",
       "                      Estimated Shares Outstanding  \n",
       "symbol Period Ending                                \n",
       "1      2012                           3.350000e+08  \n",
       "       2013                           1.630222e+08  \n",
       "       2014                           7.169154e+08  \n",
       "       2015                           6.681299e+08  \n",
       "2      2012                           7.328355e+07  \n",
       "\n",
       "[5 rows x 75 columns]"
      ]
     },
     "execution_count": 369,
     "metadata": {},
     "output_type": "execute_result"
    }
   ],
   "source": [
    "X.head()"
   ]
  },
  {
   "cell_type": "code",
   "execution_count": 370,
   "metadata": {},
   "outputs": [
    {
     "data": {
      "text/html": [
       "<div>\n",
       "<style scoped>\n",
       "    .dataframe tbody tr th:only-of-type {\n",
       "        vertical-align: middle;\n",
       "    }\n",
       "\n",
       "    .dataframe tbody tr th {\n",
       "        vertical-align: top;\n",
       "    }\n",
       "\n",
       "    .dataframe thead th {\n",
       "        text-align: right;\n",
       "    }\n",
       "</style>\n",
       "<table border=\"1\" class=\"dataframe\">\n",
       "  <thead>\n",
       "    <tr style=\"text-align: right;\">\n",
       "      <th></th>\n",
       "      <th></th>\n",
       "      <th>close</th>\n",
       "    </tr>\n",
       "    <tr>\n",
       "      <th>symbol</th>\n",
       "      <th>Period Ending</th>\n",
       "      <th></th>\n",
       "    </tr>\n",
       "  </thead>\n",
       "  <tbody>\n",
       "    <tr>\n",
       "      <th rowspan=\"4\" valign=\"top\">1</th>\n",
       "      <th>2012</th>\n",
       "      <td>10.496160</td>\n",
       "    </tr>\n",
       "    <tr>\n",
       "      <th>2013</th>\n",
       "      <td>18.187936</td>\n",
       "    </tr>\n",
       "    <tr>\n",
       "      <th>2014</th>\n",
       "      <td>38.923651</td>\n",
       "    </tr>\n",
       "    <tr>\n",
       "      <th>2015</th>\n",
       "      <td>45.122103</td>\n",
       "    </tr>\n",
       "    <tr>\n",
       "      <th>2</th>\n",
       "      <th>2012</th>\n",
       "      <td>76.074120</td>\n",
       "    </tr>\n",
       "  </tbody>\n",
       "</table>\n",
       "</div>"
      ],
      "text/plain": [
       "                          close\n",
       "symbol Period Ending           \n",
       "1      2012           10.496160\n",
       "       2013           18.187936\n",
       "       2014           38.923651\n",
       "       2015           45.122103\n",
       "2      2012           76.074120"
      ]
     },
     "execution_count": 370,
     "metadata": {},
     "output_type": "execute_result"
    }
   ],
   "source": [
    "y.head()"
   ]
  },
  {
   "cell_type": "markdown",
   "metadata": {},
   "source": [
    "## Check multicolliearity"
   ]
  },
  {
   "cell_type": "code",
   "execution_count": 440,
   "metadata": {},
   "outputs": [
    {
     "data": {
      "text/plain": [
       "73"
      ]
     },
     "execution_count": 440,
     "metadata": {},
     "output_type": "execute_result"
    }
   ],
   "source": [
    "np.linalg.matrix_rank(X)"
   ]
  },
  {
   "cell_type": "code",
   "execution_count": 441,
   "metadata": {},
   "outputs": [
    {
     "data": {
      "text/plain": [
       "75"
      ]
     },
     "execution_count": 441,
     "metadata": {},
     "output_type": "execute_result"
    }
   ],
   "source": [
    "X.shape[1]"
   ]
  },
  {
   "cell_type": "code",
   "execution_count": 443,
   "metadata": {},
   "outputs": [
    {
     "data": {
      "text/plain": [
       "['Earnings Before Tax',\n",
       " 'Fixed Assets',\n",
       " 'Income Tax',\n",
       " 'Net Cash Flow-Operating',\n",
       " 'Net Income',\n",
       " 'Net Income Applicable to Common Shareholders',\n",
       " 'Net Income-Cont. Operations',\n",
       " 'Operating Income',\n",
       " 'Pre-Tax Margin',\n",
       " 'Pre-Tax ROE',\n",
       " 'Profit Margin',\n",
       " 'Quick Ratio',\n",
       " 'Sales, General and Admin.',\n",
       " 'Total Current Liabilities',\n",
       " 'Total Liabilities',\n",
       " 'Total Liabilities & Equity',\n",
       " 'Total Revenue']"
      ]
     },
     "execution_count": 443,
     "metadata": {},
     "output_type": "execute_result"
    }
   ],
   "source": [
    "corr_matrix = X.corr().abs()\n",
    "\n",
    "# Select upper triangle of correlation matrix\n",
    "upper = corr_matrix.where(np.triu(np.ones(corr_matrix.shape), k=1).astype(np.bool))\n",
    "\n",
    "# Find features with correlation greater than 0.95\n",
    "to_drop = [column for column in upper.columns if any(upper[column] > 0.90)]\n",
    "\n",
    "to_drop"
   ]
  },
  {
   "cell_type": "code",
   "execution_count": 534,
   "metadata": {},
   "outputs": [
    {
     "data": {
      "text/html": [
       "<div>\n",
       "<style scoped>\n",
       "    .dataframe tbody tr th:only-of-type {\n",
       "        vertical-align: middle;\n",
       "    }\n",
       "\n",
       "    .dataframe tbody tr th {\n",
       "        vertical-align: top;\n",
       "    }\n",
       "\n",
       "    .dataframe thead th {\n",
       "        text-align: right;\n",
       "    }\n",
       "</style>\n",
       "<table border=\"1\" class=\"dataframe\">\n",
       "  <thead>\n",
       "    <tr style=\"text-align: right;\">\n",
       "      <th></th>\n",
       "      <th>Accounts Payable</th>\n",
       "      <th>Accounts Receivable</th>\n",
       "      <th>Add'l income/expense items</th>\n",
       "      <th>After Tax ROE</th>\n",
       "      <th>Capital Expenditures</th>\n",
       "      <th>Capital Surplus</th>\n",
       "      <th>Cash Ratio</th>\n",
       "      <th>Cash and Cash Equivalents</th>\n",
       "      <th>Changes in Inventories</th>\n",
       "      <th>Common Stocks</th>\n",
       "      <th>...</th>\n",
       "      <th>Total Assets</th>\n",
       "      <th>Total Current Assets</th>\n",
       "      <th>Total Current Liabilities</th>\n",
       "      <th>Total Equity</th>\n",
       "      <th>Total Liabilities</th>\n",
       "      <th>Total Liabilities &amp; Equity</th>\n",
       "      <th>Total Revenue</th>\n",
       "      <th>Treasury Stock</th>\n",
       "      <th>Earnings Per Share</th>\n",
       "      <th>Estimated Shares Outstanding</th>\n",
       "    </tr>\n",
       "  </thead>\n",
       "  <tbody>\n",
       "  </tbody>\n",
       "</table>\n",
       "<p>0 rows × 75 columns</p>\n",
       "</div>"
      ],
      "text/plain": [
       "Empty DataFrame\n",
       "Columns: [Accounts Payable, Accounts Receivable, Add'l income/expense items, After Tax ROE, Capital Expenditures, Capital Surplus, Cash Ratio, Cash and Cash Equivalents, Changes in Inventories, Common Stocks, Cost of Revenue, Current Ratio, Deferred Asset Charges, Deferred Liability Charges, Depreciation, Earnings Before Interest and Tax, Earnings Before Tax, Effect of Exchange Rate, Equity Earnings/Loss Unconsolidated Subsidiary, Fixed Assets, Goodwill, Gross Margin, Gross Profit, Income Tax, Intangible Assets, Interest Expense, Inventory, Investments, Liabilities, Long-Term Debt, Long-Term Investments, Minority Interest, Misc. Stocks, Net Borrowings, Net Cash Flow, Net Cash Flow-Operating, Net Cash Flows-Financing, Net Cash Flows-Investing, Net Income, Net Income Adjustments, Net Income Applicable to Common Shareholders, Net Income-Cont. Operations, Net Receivables, Non-Recurring Items, Operating Income, Operating Margin, Other Assets, Other Current Assets, Other Current Liabilities, Other Equity, Other Financing Activities, Other Investing Activities, Other Liabilities, Other Operating Activities, Other Operating Items, Pre-Tax Margin, Pre-Tax ROE, Profit Margin, Quick Ratio, Research and Development, Retained Earnings, Sale and Purchase of Stock, Sales, General and Admin., Short-Term Debt / Current Portion of Long-Term Debt, Short-Term Investments, Total Assets, Total Current Assets, Total Current Liabilities, Total Equity, Total Liabilities, Total Liabilities & Equity, Total Revenue, Treasury Stock, Earnings Per Share, Estimated Shares Outstanding]\n",
       "Index: []\n",
       "\n",
       "[0 rows x 75 columns]"
      ]
     },
     "execution_count": 534,
     "metadata": {},
     "output_type": "execute_result"
    }
   ],
   "source": [
    "upper[upper['Changes in Inventories']>0.7]"
   ]
  },
  {
   "cell_type": "code",
   "execution_count": 446,
   "metadata": {},
   "outputs": [
    {
     "name": "stderr",
     "output_type": "stream",
     "text": [
      "/anaconda3/lib/python3.6/site-packages/pandas/core/frame.py:3694: SettingWithCopyWarning: \n",
      "A value is trying to be set on a copy of a slice from a DataFrame\n",
      "\n",
      "See the caveats in the documentation: http://pandas.pydata.org/pandas-docs/stable/indexing.html#indexing-view-versus-copy\n",
      "  errors=errors)\n"
     ]
    }
   ],
   "source": [
    "dele=['Earnings Before Tax',\n",
    " 'Fixed Assets',\n",
    " 'Income Tax',\n",
    " 'Net Cash Flow-Operating',\n",
    " 'Net Income Applicable to Common Shareholders',\n",
    " 'Net Income-Cont. Operations',\n",
    " 'Operating Income',\n",
    " 'Pre-Tax Margin',\n",
    " 'Pre-Tax ROE',\n",
    " 'Pre-Tax Margin',\n",
    " 'Quick Ratio',\n",
    " 'Sales, General and Admin.',\n",
    " 'Total Current Liabilities',\n",
    " 'Total Liabilities',\n",
    " 'Total Liabilities & Equity',\n",
    " 'Cost of Revenue']\n",
    "X.drop(columns=dele,inplace=True)"
   ]
  },
  {
   "cell_type": "code",
   "execution_count": 448,
   "metadata": {},
   "outputs": [
    {
     "data": {
      "text/plain": [
       "60"
      ]
     },
     "execution_count": 448,
     "metadata": {},
     "output_type": "execute_result"
    }
   ],
   "source": [
    "X.shape[1]"
   ]
  },
  {
   "cell_type": "markdown",
   "metadata": {},
   "source": [
    "## General Linear model"
   ]
  },
  {
   "cell_type": "code",
   "execution_count": 450,
   "metadata": {},
   "outputs": [],
   "source": [
    "import statsmodels.api as sm \n",
    "res = sm.OLS(y.values,sm.add_constant(X.values)).fit()"
   ]
  },
  {
   "cell_type": "code",
   "execution_count": 451,
   "metadata": {},
   "outputs": [
    {
     "data": {
      "text/html": [
       "<table class=\"simpletable\">\n",
       "<caption>OLS Regression Results</caption>\n",
       "<tr>\n",
       "  <th>Dep. Variable:</th>            <td>y</td>        <th>  R-squared:         </th> <td>   0.611</td> \n",
       "</tr>\n",
       "<tr>\n",
       "  <th>Model:</th>                   <td>OLS</td>       <th>  Adj. R-squared:    </th> <td>   0.592</td> \n",
       "</tr>\n",
       "<tr>\n",
       "  <th>Method:</th>             <td>Least Squares</td>  <th>  F-statistic:       </th> <td>   32.19</td> \n",
       "</tr>\n",
       "<tr>\n",
       "  <th>Date:</th>             <td>Wed, 08 May 2019</td> <th>  Prob (F-statistic):</th> <td>1.32e-208</td>\n",
       "</tr>\n",
       "<tr>\n",
       "  <th>Time:</th>                 <td>21:25:17</td>     <th>  Log-Likelihood:    </th> <td> -6911.6</td> \n",
       "</tr>\n",
       "<tr>\n",
       "  <th>No. Observations:</th>      <td>  1288</td>      <th>  AIC:               </th> <td>1.395e+04</td>\n",
       "</tr>\n",
       "<tr>\n",
       "  <th>Df Residuals:</th>          <td>  1227</td>      <th>  BIC:               </th> <td>1.426e+04</td>\n",
       "</tr>\n",
       "<tr>\n",
       "  <th>Df Model:</th>              <td>    60</td>      <th>                     </th>     <td> </td>    \n",
       "</tr>\n",
       "<tr>\n",
       "  <th>Covariance Type:</th>      <td>nonrobust</td>    <th>                     </th>     <td> </td>    \n",
       "</tr>\n",
       "</table>\n",
       "<table class=\"simpletable\">\n",
       "<tr>\n",
       "    <td></td>       <th>coef</th>     <th>std err</th>      <th>t</th>      <th>P>|t|</th>  <th>[0.025</th>    <th>0.975]</th>  \n",
       "</tr>\n",
       "<tr>\n",
       "  <th>const</th> <td>   -1.1036</td> <td>    6.514</td> <td>   -0.169</td> <td> 0.865</td> <td>  -13.883</td> <td>   11.676</td>\n",
       "</tr>\n",
       "<tr>\n",
       "  <th>x1</th>    <td> 5.698e-09</td> <td> 1.11e-08</td> <td>    0.513</td> <td> 0.608</td> <td>-1.61e-08</td> <td> 2.75e-08</td>\n",
       "</tr>\n",
       "<tr>\n",
       "  <th>x2</th>    <td> 3.827e-09</td> <td> 6.78e-09</td> <td>    0.564</td> <td> 0.573</td> <td>-9.48e-09</td> <td> 1.71e-08</td>\n",
       "</tr>\n",
       "<tr>\n",
       "  <th>x3</th>    <td>  7.91e-10</td> <td> 3.31e-09</td> <td>    0.239</td> <td> 0.811</td> <td> -5.7e-09</td> <td> 7.28e-09</td>\n",
       "</tr>\n",
       "<tr>\n",
       "  <th>x4</th>    <td>   -0.0021</td> <td>    0.006</td> <td>   -0.346</td> <td> 0.730</td> <td>   -0.014</td> <td>    0.010</td>\n",
       "</tr>\n",
       "<tr>\n",
       "  <th>x5</th>    <td> 1.166e-07</td> <td> 3.25e-07</td> <td>    0.359</td> <td> 0.719</td> <td> -5.2e-07</td> <td> 7.53e-07</td>\n",
       "</tr>\n",
       "<tr>\n",
       "  <th>x6</th>    <td>-3.299e-10</td> <td> 1.22e-09</td> <td>   -0.270</td> <td> 0.787</td> <td>-2.73e-09</td> <td> 2.07e-09</td>\n",
       "</tr>\n",
       "<tr>\n",
       "  <th>x7</th>    <td>    0.0371</td> <td>    0.038</td> <td>    0.979</td> <td> 0.328</td> <td>   -0.037</td> <td>    0.111</td>\n",
       "</tr>\n",
       "<tr>\n",
       "  <th>x8</th>    <td>-2.985e-08</td> <td> 8.37e-08</td> <td>   -0.357</td> <td> 0.721</td> <td>-1.94e-07</td> <td> 1.34e-07</td>\n",
       "</tr>\n",
       "<tr>\n",
       "  <th>x9</th>    <td> 1.286e-08</td> <td> 7.16e-09</td> <td>    1.796</td> <td> 0.073</td> <td>-1.19e-09</td> <td> 2.69e-08</td>\n",
       "</tr>\n",
       "<tr>\n",
       "  <th>x10</th>   <td>-1.459e-10</td> <td> 1.29e-09</td> <td>   -0.113</td> <td> 0.910</td> <td>-2.68e-09</td> <td> 2.39e-09</td>\n",
       "</tr>\n",
       "<tr>\n",
       "  <th>x11</th>   <td>    0.0204</td> <td>    0.029</td> <td>    0.696</td> <td> 0.487</td> <td>   -0.037</td> <td>    0.078</td>\n",
       "</tr>\n",
       "<tr>\n",
       "  <th>x12</th>   <td>-3.013e-09</td> <td> 1.67e-09</td> <td>   -1.804</td> <td> 0.071</td> <td>-6.29e-09</td> <td> 2.63e-10</td>\n",
       "</tr>\n",
       "<tr>\n",
       "  <th>x13</th>   <td> 1.763e-09</td> <td> 1.12e-08</td> <td>    0.158</td> <td> 0.875</td> <td>-2.02e-08</td> <td> 2.37e-08</td>\n",
       "</tr>\n",
       "<tr>\n",
       "  <th>x14</th>   <td> 1.269e-08</td> <td> 6.72e-09</td> <td>    1.888</td> <td> 0.059</td> <td>-4.94e-10</td> <td> 2.59e-08</td>\n",
       "</tr>\n",
       "<tr>\n",
       "  <th>x15</th>   <td> 1.093e-09</td> <td> 2.15e-09</td> <td>    0.507</td> <td> 0.612</td> <td>-3.13e-09</td> <td> 5.32e-09</td>\n",
       "</tr>\n",
       "<tr>\n",
       "  <th>x16</th>   <td> -1.18e-09</td> <td> 1.99e-08</td> <td>   -0.059</td> <td> 0.953</td> <td>-4.03e-08</td> <td> 3.79e-08</td>\n",
       "</tr>\n",
       "<tr>\n",
       "  <th>x17</th>   <td> 1.609e-08</td> <td> 5.31e-09</td> <td>    3.033</td> <td> 0.002</td> <td> 5.68e-09</td> <td> 2.65e-08</td>\n",
       "</tr>\n",
       "<tr>\n",
       "  <th>x18</th>   <td> 5.707e-10</td> <td> 5.91e-10</td> <td>    0.966</td> <td> 0.334</td> <td>-5.89e-10</td> <td> 1.73e-09</td>\n",
       "</tr>\n",
       "<tr>\n",
       "  <th>x19</th>   <td>    0.0369</td> <td>    0.098</td> <td>    0.375</td> <td> 0.708</td> <td>   -0.156</td> <td>    0.230</td>\n",
       "</tr>\n",
       "<tr>\n",
       "  <th>x20</th>   <td> 1.794e-09</td> <td> 5.65e-10</td> <td>    3.175</td> <td> 0.002</td> <td> 6.85e-10</td> <td>  2.9e-09</td>\n",
       "</tr>\n",
       "<tr>\n",
       "  <th>x21</th>   <td> 8.073e-10</td> <td> 6.09e-10</td> <td>    1.326</td> <td> 0.185</td> <td>-3.88e-10</td> <td>    2e-09</td>\n",
       "</tr>\n",
       "<tr>\n",
       "  <th>x22</th>   <td>-2.453e-08</td> <td> 9.93e-09</td> <td>   -2.470</td> <td> 0.014</td> <td> -4.4e-08</td> <td>-5.05e-09</td>\n",
       "</tr>\n",
       "<tr>\n",
       "  <th>x23</th>   <td>-2.974e-08</td> <td> 8.38e-08</td> <td>   -0.355</td> <td> 0.723</td> <td>-1.94e-07</td> <td> 1.35e-07</td>\n",
       "</tr>\n",
       "<tr>\n",
       "  <th>x24</th>   <td>  1.15e-07</td> <td> 3.25e-07</td> <td>    0.354</td> <td> 0.723</td> <td>-5.22e-07</td> <td> 7.52e-07</td>\n",
       "</tr>\n",
       "<tr>\n",
       "  <th>x25</th>   <td> 1.402e-08</td> <td> 5.93e-09</td> <td>    2.366</td> <td> 0.018</td> <td> 2.39e-09</td> <td> 2.56e-08</td>\n",
       "</tr>\n",
       "<tr>\n",
       "  <th>x26</th>   <td>  3.78e-09</td> <td> 1.12e-08</td> <td>    0.337</td> <td> 0.736</td> <td>-1.82e-08</td> <td> 2.58e-08</td>\n",
       "</tr>\n",
       "<tr>\n",
       "  <th>x27</th>   <td>  1.78e-09</td> <td> 5.38e-10</td> <td>    3.311</td> <td> 0.001</td> <td> 7.25e-10</td> <td> 2.84e-09</td>\n",
       "</tr>\n",
       "<tr>\n",
       "  <th>x28</th>   <td> 1.676e-09</td> <td> 1.12e-08</td> <td>    0.149</td> <td> 0.882</td> <td>-2.04e-08</td> <td> 2.37e-08</td>\n",
       "</tr>\n",
       "<tr>\n",
       "  <th>x29</th>   <td>-4.209e-09</td> <td> 1.69e-08</td> <td>   -0.249</td> <td> 0.804</td> <td>-3.74e-08</td> <td>  2.9e-08</td>\n",
       "</tr>\n",
       "<tr>\n",
       "  <th>x30</th>   <td>-4.061e-09</td> <td> 2.88e-09</td> <td>   -1.410</td> <td> 0.159</td> <td>-9.71e-09</td> <td> 1.59e-09</td>\n",
       "</tr>\n",
       "<tr>\n",
       "  <th>x31</th>   <td>-5.356e-09</td> <td> 6.12e-09</td> <td>   -0.875</td> <td> 0.382</td> <td>-1.74e-08</td> <td> 6.65e-09</td>\n",
       "</tr>\n",
       "<tr>\n",
       "  <th>x32</th>   <td> 1.119e-08</td> <td> 6.56e-09</td> <td>    1.707</td> <td> 0.088</td> <td>-1.67e-09</td> <td>  2.4e-08</td>\n",
       "</tr>\n",
       "<tr>\n",
       "  <th>x33</th>   <td>-1.117e-07</td> <td> 3.25e-07</td> <td>   -0.344</td> <td> 0.731</td> <td>-7.49e-07</td> <td> 5.26e-07</td>\n",
       "</tr>\n",
       "<tr>\n",
       "  <th>x34</th>   <td>-1.124e-08</td> <td> 6.49e-09</td> <td>   -1.731</td> <td> 0.084</td> <td> -2.4e-08</td> <td>  1.5e-09</td>\n",
       "</tr>\n",
       "<tr>\n",
       "  <th>x35</th>   <td> 5.858e-09</td> <td> 6.17e-09</td> <td>    0.949</td> <td> 0.343</td> <td>-6.25e-09</td> <td>  1.8e-08</td>\n",
       "</tr>\n",
       "<tr>\n",
       "  <th>x36</th>   <td>-3.002e-08</td> <td> 8.38e-08</td> <td>   -0.358</td> <td> 0.720</td> <td>-1.94e-07</td> <td> 1.34e-07</td>\n",
       "</tr>\n",
       "<tr>\n",
       "  <th>x37</th>   <td> 4.537e-09</td> <td>  2.3e-09</td> <td>    1.973</td> <td> 0.049</td> <td> 2.56e-11</td> <td> 9.05e-09</td>\n",
       "</tr>\n",
       "<tr>\n",
       "  <th>x38</th>   <td>    1.4575</td> <td>    0.219</td> <td>    6.652</td> <td> 0.000</td> <td>    1.028</td> <td>    1.887</td>\n",
       "</tr>\n",
       "<tr>\n",
       "  <th>x39</th>   <td> 3.811e-09</td> <td>  1.4e-09</td> <td>    2.731</td> <td> 0.006</td> <td> 1.07e-09</td> <td> 6.55e-09</td>\n",
       "</tr>\n",
       "<tr>\n",
       "  <th>x40</th>   <td>-3.394e-08</td> <td> 8.38e-08</td> <td>   -0.405</td> <td> 0.685</td> <td>-1.98e-07</td> <td>  1.3e-07</td>\n",
       "</tr>\n",
       "<tr>\n",
       "  <th>x41</th>   <td> 4.213e-09</td> <td> 1.12e-08</td> <td>    0.376</td> <td> 0.707</td> <td>-1.77e-08</td> <td> 2.62e-08</td>\n",
       "</tr>\n",
       "<tr>\n",
       "  <th>x42</th>   <td>-1.387e-09</td> <td> 1.64e-09</td> <td>   -0.847</td> <td> 0.397</td> <td> -4.6e-09</td> <td> 1.82e-09</td>\n",
       "</tr>\n",
       "<tr>\n",
       "  <th>x43</th>   <td>-7.092e-11</td> <td> 4.54e-09</td> <td>   -0.016</td> <td> 0.988</td> <td>-8.98e-09</td> <td> 8.84e-09</td>\n",
       "</tr>\n",
       "<tr>\n",
       "  <th>x44</th>   <td> 1.171e-07</td> <td> 3.25e-07</td> <td>    0.361</td> <td> 0.718</td> <td> -5.2e-07</td> <td> 7.54e-07</td>\n",
       "</tr>\n",
       "<tr>\n",
       "  <th>x45</th>   <td> 6.354e-10</td> <td> 1.13e-08</td> <td>    0.056</td> <td> 0.955</td> <td>-2.15e-08</td> <td> 2.27e-08</td>\n",
       "</tr>\n",
       "<tr>\n",
       "  <th>x46</th>   <td> 2.063e-09</td> <td> 5.95e-09</td> <td>    0.347</td> <td> 0.729</td> <td>-9.62e-09</td> <td> 1.37e-08</td>\n",
       "</tr>\n",
       "<tr>\n",
       "  <th>x47</th>   <td> 5.435e-10</td> <td> 2.88e-09</td> <td>    0.189</td> <td> 0.850</td> <td>-5.11e-09</td> <td> 6.19e-09</td>\n",
       "</tr>\n",
       "<tr>\n",
       "  <th>x48</th>   <td>   -0.6830</td> <td>    0.275</td> <td>   -2.488</td> <td> 0.013</td> <td>   -1.222</td> <td>   -0.144</td>\n",
       "</tr>\n",
       "<tr>\n",
       "  <th>x49</th>   <td>-5.394e-10</td> <td> 2.47e-09</td> <td>   -0.218</td> <td> 0.827</td> <td>-5.39e-09</td> <td> 4.31e-09</td>\n",
       "</tr>\n",
       "<tr>\n",
       "  <th>x50</th>   <td>-1.031e-10</td> <td> 1.21e-09</td> <td>   -0.085</td> <td> 0.932</td> <td>-2.47e-09</td> <td> 2.26e-09</td>\n",
       "</tr>\n",
       "<tr>\n",
       "  <th>x51</th>   <td>-4.857e-09</td> <td> 2.94e-09</td> <td>   -1.654</td> <td> 0.098</td> <td>-1.06e-08</td> <td> 9.04e-10</td>\n",
       "</tr>\n",
       "<tr>\n",
       "  <th>x52</th>   <td> 1.064e-09</td> <td> 1.13e-08</td> <td>    0.094</td> <td> 0.925</td> <td>-2.11e-08</td> <td> 2.32e-08</td>\n",
       "</tr>\n",
       "<tr>\n",
       "  <th>x53</th>   <td>-2.876e-08</td> <td> 8.37e-08</td> <td>   -0.344</td> <td> 0.731</td> <td>-1.93e-07</td> <td> 1.35e-07</td>\n",
       "</tr>\n",
       "<tr>\n",
       "  <th>x54</th>   <td>-2.958e-09</td> <td> 1.12e-08</td> <td>   -0.264</td> <td> 0.792</td> <td> -2.5e-08</td> <td>  1.9e-08</td>\n",
       "</tr>\n",
       "<tr>\n",
       "  <th>x55</th>   <td> 2.963e-08</td> <td> 8.37e-08</td> <td>    0.354</td> <td> 0.723</td> <td>-1.35e-07</td> <td> 1.94e-07</td>\n",
       "</tr>\n",
       "<tr>\n",
       "  <th>x56</th>   <td> 2.099e-09</td> <td> 1.14e-08</td> <td>    0.184</td> <td> 0.854</td> <td>-2.02e-08</td> <td> 2.44e-08</td>\n",
       "</tr>\n",
       "<tr>\n",
       "  <th>x57</th>   <td>-1.835e-10</td> <td> 1.57e-10</td> <td>   -1.170</td> <td> 0.242</td> <td>-4.91e-10</td> <td> 1.24e-10</td>\n",
       "</tr>\n",
       "<tr>\n",
       "  <th>x58</th>   <td>-5.926e-10</td> <td> 1.23e-09</td> <td>   -0.483</td> <td> 0.629</td> <td>   -3e-09</td> <td> 1.82e-09</td>\n",
       "</tr>\n",
       "<tr>\n",
       "  <th>x59</th>   <td>   15.4200</td> <td>    0.396</td> <td>   38.926</td> <td> 0.000</td> <td>   14.643</td> <td>   16.197</td>\n",
       "</tr>\n",
       "<tr>\n",
       "  <th>x60</th>   <td> 7.265e-09</td> <td> 3.82e-09</td> <td>    1.900</td> <td> 0.058</td> <td>-2.37e-10</td> <td> 1.48e-08</td>\n",
       "</tr>\n",
       "</table>\n",
       "<table class=\"simpletable\">\n",
       "<tr>\n",
       "  <th>Omnibus:</th>       <td>480.027</td> <th>  Durbin-Watson:     </th> <td>   1.034</td> \n",
       "</tr>\n",
       "<tr>\n",
       "  <th>Prob(Omnibus):</th> <td> 0.000</td>  <th>  Jarque-Bera (JB):  </th> <td>33573.457</td>\n",
       "</tr>\n",
       "<tr>\n",
       "  <th>Skew:</th>          <td> 0.846</td>  <th>  Prob(JB):          </th> <td>    0.00</td> \n",
       "</tr>\n",
       "<tr>\n",
       "  <th>Kurtosis:</th>      <td>27.955</td>  <th>  Cond. No.          </th> <td>3.53e+11</td> \n",
       "</tr>\n",
       "</table><br/><br/>Warnings:<br/>[1] Standard Errors assume that the covariance matrix of the errors is correctly specified.<br/>[2] The condition number is large, 3.53e+11. This might indicate that there are<br/>strong multicollinearity or other numerical problems."
      ],
      "text/plain": [
       "<class 'statsmodels.iolib.summary.Summary'>\n",
       "\"\"\"\n",
       "                            OLS Regression Results                            \n",
       "==============================================================================\n",
       "Dep. Variable:                      y   R-squared:                       0.611\n",
       "Model:                            OLS   Adj. R-squared:                  0.592\n",
       "Method:                 Least Squares   F-statistic:                     32.19\n",
       "Date:                Wed, 08 May 2019   Prob (F-statistic):          1.32e-208\n",
       "Time:                        21:25:17   Log-Likelihood:                -6911.6\n",
       "No. Observations:                1288   AIC:                         1.395e+04\n",
       "Df Residuals:                    1227   BIC:                         1.426e+04\n",
       "Df Model:                          60                                         \n",
       "Covariance Type:            nonrobust                                         \n",
       "==============================================================================\n",
       "                 coef    std err          t      P>|t|      [0.025      0.975]\n",
       "------------------------------------------------------------------------------\n",
       "const         -1.1036      6.514     -0.169      0.865     -13.883      11.676\n",
       "x1          5.698e-09   1.11e-08      0.513      0.608   -1.61e-08    2.75e-08\n",
       "x2          3.827e-09   6.78e-09      0.564      0.573   -9.48e-09    1.71e-08\n",
       "x3           7.91e-10   3.31e-09      0.239      0.811    -5.7e-09    7.28e-09\n",
       "x4            -0.0021      0.006     -0.346      0.730      -0.014       0.010\n",
       "x5          1.166e-07   3.25e-07      0.359      0.719    -5.2e-07    7.53e-07\n",
       "x6         -3.299e-10   1.22e-09     -0.270      0.787   -2.73e-09    2.07e-09\n",
       "x7             0.0371      0.038      0.979      0.328      -0.037       0.111\n",
       "x8         -2.985e-08   8.37e-08     -0.357      0.721   -1.94e-07    1.34e-07\n",
       "x9          1.286e-08   7.16e-09      1.796      0.073   -1.19e-09    2.69e-08\n",
       "x10        -1.459e-10   1.29e-09     -0.113      0.910   -2.68e-09    2.39e-09\n",
       "x11            0.0204      0.029      0.696      0.487      -0.037       0.078\n",
       "x12        -3.013e-09   1.67e-09     -1.804      0.071   -6.29e-09    2.63e-10\n",
       "x13         1.763e-09   1.12e-08      0.158      0.875   -2.02e-08    2.37e-08\n",
       "x14         1.269e-08   6.72e-09      1.888      0.059   -4.94e-10    2.59e-08\n",
       "x15         1.093e-09   2.15e-09      0.507      0.612   -3.13e-09    5.32e-09\n",
       "x16         -1.18e-09   1.99e-08     -0.059      0.953   -4.03e-08    3.79e-08\n",
       "x17         1.609e-08   5.31e-09      3.033      0.002    5.68e-09    2.65e-08\n",
       "x18         5.707e-10   5.91e-10      0.966      0.334   -5.89e-10    1.73e-09\n",
       "x19            0.0369      0.098      0.375      0.708      -0.156       0.230\n",
       "x20         1.794e-09   5.65e-10      3.175      0.002    6.85e-10     2.9e-09\n",
       "x21         8.073e-10   6.09e-10      1.326      0.185   -3.88e-10       2e-09\n",
       "x22        -2.453e-08   9.93e-09     -2.470      0.014    -4.4e-08   -5.05e-09\n",
       "x23        -2.974e-08   8.38e-08     -0.355      0.723   -1.94e-07    1.35e-07\n",
       "x24          1.15e-07   3.25e-07      0.354      0.723   -5.22e-07    7.52e-07\n",
       "x25         1.402e-08   5.93e-09      2.366      0.018    2.39e-09    2.56e-08\n",
       "x26          3.78e-09   1.12e-08      0.337      0.736   -1.82e-08    2.58e-08\n",
       "x27          1.78e-09   5.38e-10      3.311      0.001    7.25e-10    2.84e-09\n",
       "x28         1.676e-09   1.12e-08      0.149      0.882   -2.04e-08    2.37e-08\n",
       "x29        -4.209e-09   1.69e-08     -0.249      0.804   -3.74e-08     2.9e-08\n",
       "x30        -4.061e-09   2.88e-09     -1.410      0.159   -9.71e-09    1.59e-09\n",
       "x31        -5.356e-09   6.12e-09     -0.875      0.382   -1.74e-08    6.65e-09\n",
       "x32         1.119e-08   6.56e-09      1.707      0.088   -1.67e-09     2.4e-08\n",
       "x33        -1.117e-07   3.25e-07     -0.344      0.731   -7.49e-07    5.26e-07\n",
       "x34        -1.124e-08   6.49e-09     -1.731      0.084    -2.4e-08     1.5e-09\n",
       "x35         5.858e-09   6.17e-09      0.949      0.343   -6.25e-09     1.8e-08\n",
       "x36        -3.002e-08   8.38e-08     -0.358      0.720   -1.94e-07    1.34e-07\n",
       "x37         4.537e-09    2.3e-09      1.973      0.049    2.56e-11    9.05e-09\n",
       "x38            1.4575      0.219      6.652      0.000       1.028       1.887\n",
       "x39         3.811e-09    1.4e-09      2.731      0.006    1.07e-09    6.55e-09\n",
       "x40        -3.394e-08   8.38e-08     -0.405      0.685   -1.98e-07     1.3e-07\n",
       "x41         4.213e-09   1.12e-08      0.376      0.707   -1.77e-08    2.62e-08\n",
       "x42        -1.387e-09   1.64e-09     -0.847      0.397    -4.6e-09    1.82e-09\n",
       "x43        -7.092e-11   4.54e-09     -0.016      0.988   -8.98e-09    8.84e-09\n",
       "x44         1.171e-07   3.25e-07      0.361      0.718    -5.2e-07    7.54e-07\n",
       "x45         6.354e-10   1.13e-08      0.056      0.955   -2.15e-08    2.27e-08\n",
       "x46         2.063e-09   5.95e-09      0.347      0.729   -9.62e-09    1.37e-08\n",
       "x47         5.435e-10   2.88e-09      0.189      0.850   -5.11e-09    6.19e-09\n",
       "x48           -0.6830      0.275     -2.488      0.013      -1.222      -0.144\n",
       "x49        -5.394e-10   2.47e-09     -0.218      0.827   -5.39e-09    4.31e-09\n",
       "x50        -1.031e-10   1.21e-09     -0.085      0.932   -2.47e-09    2.26e-09\n",
       "x51        -4.857e-09   2.94e-09     -1.654      0.098   -1.06e-08    9.04e-10\n",
       "x52         1.064e-09   1.13e-08      0.094      0.925   -2.11e-08    2.32e-08\n",
       "x53        -2.876e-08   8.37e-08     -0.344      0.731   -1.93e-07    1.35e-07\n",
       "x54        -2.958e-09   1.12e-08     -0.264      0.792    -2.5e-08     1.9e-08\n",
       "x55         2.963e-08   8.37e-08      0.354      0.723   -1.35e-07    1.94e-07\n",
       "x56         2.099e-09   1.14e-08      0.184      0.854   -2.02e-08    2.44e-08\n",
       "x57        -1.835e-10   1.57e-10     -1.170      0.242   -4.91e-10    1.24e-10\n",
       "x58        -5.926e-10   1.23e-09     -0.483      0.629      -3e-09    1.82e-09\n",
       "x59           15.4200      0.396     38.926      0.000      14.643      16.197\n",
       "x60         7.265e-09   3.82e-09      1.900      0.058   -2.37e-10    1.48e-08\n",
       "==============================================================================\n",
       "Omnibus:                      480.027   Durbin-Watson:                   1.034\n",
       "Prob(Omnibus):                  0.000   Jarque-Bera (JB):            33573.457\n",
       "Skew:                           0.846   Prob(JB):                         0.00\n",
       "Kurtosis:                      27.955   Cond. No.                     3.53e+11\n",
       "==============================================================================\n",
       "\n",
       "Warnings:\n",
       "[1] Standard Errors assume that the covariance matrix of the errors is correctly specified.\n",
       "[2] The condition number is large, 3.53e+11. This might indicate that there are\n",
       "strong multicollinearity or other numerical problems.\n",
       "\"\"\""
      ]
     },
     "execution_count": 451,
     "metadata": {},
     "output_type": "execute_result"
    }
   ],
   "source": [
    "res.summary()"
   ]
  },
  {
   "cell_type": "code",
   "execution_count": 473,
   "metadata": {},
   "outputs": [],
   "source": [
    "col=[\"const\"]\n",
    "col.extend(X.columns.values)"
   ]
  },
  {
   "cell_type": "code",
   "execution_count": 554,
   "metadata": {},
   "outputs": [
    {
     "data": {
      "text/plain": [
       "{'Cash and Cash Equivalents': 0.018129464005058882,\n",
       " 'Changes in Inventories': 0.0032759331943199577,\n",
       " 'Current Ratio': 0.02088628736857623,\n",
       " 'Deferred Asset Charges': 0.002337552627351691,\n",
       " 'Depreciation': 6.337269885059449e-05,\n",
       " 'Equity Earnings/Loss Unconsolidated Subsidiary': 0.0,\n",
       " 'Gross Profit': 0.0,\n",
       " 'Interest Expense': 0.00444408587300793,\n",
       " 'Inventory': 0.01334639429141915,\n",
       " 'Liabilities': 0.04276226463663502,\n",
       " 'Long-Term Investments': 0.0007787384832622646,\n",
       " 'Net Receivables': 0.015734235511120298,\n",
       " 'Non-Recurring Items': 6.216935162894899e-06,\n",
       " 'Operating Margin': 7.018447163598118e-05,\n",
       " 'Other Assets': 0.0032842163413946412,\n",
       " 'Other Current Assets': 0.011312219585202454,\n",
       " 'Profit Margin': 0.0065832652272030945,\n",
       " 'Sale and Purchase of Stock': 0.02754682507451589,\n",
       " 'Short-Term Investments': 0.01776197524268963,\n",
       " 'Total Current Assets': 0.01310354974200112,\n",
       " 'Total Revenue': 0.04662757191167599,\n",
       " 'Treasury Stock': 0.006597662966111972,\n",
       " 'Earnings Per Share': 0.0,\n",
       " 'Estimated Shares Outstanding': 0.012818525383695212}"
      ]
     },
     "execution_count": 554,
     "metadata": {},
     "output_type": "execute_result"
    }
   ],
   "source": [
    "p=dict(zip(col,res.pvalues))\n",
    "dict((k, v) for k, v in p.items() if v<=0.05)"
   ]
  },
  {
   "cell_type": "code",
   "execution_count": 452,
   "metadata": {},
   "outputs": [],
   "source": [
    "dframe=res.predict()"
   ]
  },
  {
   "cell_type": "code",
   "execution_count": 461,
   "metadata": {},
   "outputs": [
    {
     "data": {
      "text/plain": [
       "51.79114117612416"
      ]
     },
     "execution_count": 461,
     "metadata": {},
     "output_type": "execute_result"
    }
   ],
   "source": [
    "from sklearn.metrics import mean_squared_error\n",
    "\n",
    "rmse = np.sqrt(mean_squared_error(y.values, dframe))\n",
    "rmse"
   ]
  },
  {
   "cell_type": "code",
   "execution_count": 464,
   "metadata": {},
   "outputs": [
    {
     "data": {
      "text/plain": [
       "<matplotlib.legend.Legend at 0x1c2746dba8>"
      ]
     },
     "execution_count": 464,
     "metadata": {},
     "output_type": "execute_result"
    },
    {
     "data": {
      "image/png": "[encoded data removed]",
      "text/plain": [
       "<Figure size 432x288 with 1 Axes>"
      ]
     },
     "metadata": {},
     "output_type": "display_data"
    }
   ],
   "source": [
    "plt.plot(dframe,color=\"b\",label=\"y_pred\")\n",
    "plt.plot(y.values,color=\"r\",label=\"y_true\")\n",
    "plt.legend()\n"
   ]
  },
  {
   "cell_type": "code",
   "execution_count": 466,
   "metadata": {},
   "outputs": [
    {
     "data": {
      "text/plain": [
       "<matplotlib.legend.Legend at 0x1c276c5710>"
      ]
     },
     "execution_count": 466,
     "metadata": {},
     "output_type": "execute_result"
    },
    {
     "data": {
      "image/png": "[encoded data removed]",
      "text/plain": [
       "<Figure size 432x288 with 1 Axes>"
      ]
     },
     "metadata": {},
     "output_type": "display_data"
    }
   ],
   "source": [
    "plt.plot(dframe,color=\"b\",label=\"y_pred\")\n",
    "plt.legend()\n"
   ]
  },
  {
   "cell_type": "code",
   "execution_count": 467,
   "metadata": {},
   "outputs": [
    {
     "data": {
      "text/plain": [
       "<matplotlib.legend.Legend at 0x1c26dd9d68>"
      ]
     },
     "execution_count": 467,
     "metadata": {},
     "output_type": "execute_result"
    },
    {
     "data": {
      "image/png": "[encoded data removed]",
      "text/plain": [
       "<Figure size 432x288 with 1 Axes>"
      ]
     },
     "metadata": {},
     "output_type": "display_data"
    }
   ],
   "source": [
    "plt.plot(y.values,color=\"r\",label=\"y_true\")\n",
    "plt.legend()\n"
   ]
  },
  {
   "cell_type": "markdown",
   "metadata": {},
   "source": [
    "## Linear model for Panel data"
   ]
  },
  {
   "cell_type": "code",
   "execution_count": 499,
   "metadata": {},
   "outputs": [],
   "source": [
    "from linearmodels import PanelOLS,RandomEffects"
   ]
  },
  {
   "cell_type": "code",
   "execution_count": 479,
   "metadata": {},
   "outputs": [],
   "source": [
    "exog = sm.add_constant(X)"
   ]
  },
  {
   "cell_type": "code",
   "execution_count": 517,
   "metadata": {},
   "outputs": [],
   "source": [
    "mod = PanelOLS(y,exog,time_effects=True)\n",
    "res1 = mod.fit(cov_type='clustered', cluster_entity=True, cluster_time=True)"
   ]
  },
  {
   "cell_type": "code",
   "execution_count": 518,
   "metadata": {},
   "outputs": [
    {
     "data": {
      "text/html": [
       "<table class=\"simpletable\">\n",
       "<caption>PanelOLS Estimation Summary</caption>\n",
       "<tr>\n",
       "  <th>Dep. Variable:</th>          <td>close</td>      <th>  R-squared:         </th>     <td>0.6144</td>  \n",
       "</tr>\n",
       "<tr>\n",
       "  <th>Estimator:</th>            <td>PanelOLS</td>     <th>  R-squared (Between):</th>    <td>0.7020</td>  \n",
       "</tr>\n",
       "<tr>\n",
       "  <th>No. Observations:</th>       <td>1288</td>       <th>  R-squared (Within):</th>     <td>-0.6222</td> \n",
       "</tr>\n",
       "<tr>\n",
       "  <th>Date:</th>             <td>Wed, May 08 2019</td> <th>  R-squared (Overall):</th>    <td>0.6102</td>  \n",
       "</tr>\n",
       "<tr>\n",
       "  <th>Time:</th>                 <td>21:59:52</td>     <th>  Log-likelihood     </th>     <td>-6894.7</td> \n",
       "</tr>\n",
       "<tr>\n",
       "  <th>Cov. Estimator:</th>       <td>Clustered</td>    <th>                     </th>        <td></td>     \n",
       "</tr>\n",
       "<tr>\n",
       "  <th></th>                          <td></td>         <th>  F-statistic:       </th>     <td>32.479</td>  \n",
       "</tr>\n",
       "<tr>\n",
       "  <th>Entities:</th>                <td>359</td>       <th>  P-value            </th>     <td>0.0000</td>  \n",
       "</tr>\n",
       "<tr>\n",
       "  <th>Avg Obs:</th>               <td>3.5877</td>      <th>  Distribution:      </th>   <td>F(60,1223)</td>\n",
       "</tr>\n",
       "<tr>\n",
       "  <th>Min Obs:</th>               <td>1.0000</td>      <th>                     </th>        <td></td>     \n",
       "</tr>\n",
       "<tr>\n",
       "  <th>Max Obs:</th>               <td>4.0000</td>      <th>  F-statistic (robust):</th>   <td>-27.194</td> \n",
       "</tr>\n",
       "<tr>\n",
       "  <th></th>                          <td></td>         <th>  P-value            </th>     <td>1.0000</td>  \n",
       "</tr>\n",
       "<tr>\n",
       "  <th>Time periods:</th>             <td>5</td>        <th>  Distribution:      </th>   <td>F(60,1223)</td>\n",
       "</tr>\n",
       "<tr>\n",
       "  <th>Avg Obs:</th>               <td>257.60</td>      <th>                     </th>        <td></td>     \n",
       "</tr>\n",
       "<tr>\n",
       "  <th>Min Obs:</th>               <td>108.00</td>      <th>                     </th>        <td></td>     \n",
       "</tr>\n",
       "<tr>\n",
       "  <th>Max Obs:</th>               <td>343.00</td>      <th>                     </th>        <td></td>     \n",
       "</tr>\n",
       "<tr>\n",
       "  <th></th>                          <td></td>         <th>                     </th>        <td></td>     \n",
       "</tr>\n",
       "</table>\n",
       "<table class=\"simpletable\">\n",
       "<caption>Parameter Estimates</caption>\n",
       "<tr>\n",
       "                           <td></td>                            <th>Parameter</th> <th>Std. Err.</th> <th>T-stat</th>  <th>P-value</th>  <th>Lower CI</th>   <th>Upper CI</th> \n",
       "</tr>\n",
       "<tr>\n",
       "  <th>const</th>                                                 <td>-1.8596</td>   <td>15.511</td>   <td>-0.1199</td> <td>0.9046</td>    <td>-32.291</td>    <td>28.572</td>  \n",
       "</tr>\n",
       "<tr>\n",
       "  <th>Accounts Payable</th>                                     <td>3.767e-09</td> <td>2.667e-09</td> <td>1.4123</td>  <td>0.1581</td>  <td>-1.466e-09</td>  <td>   9e-09</td> \n",
       "</tr>\n",
       "<tr>\n",
       "  <th>Accounts Receivable</th>                                  <td>1.374e-09</td> <td>6.673e-09</td> <td>0.2059</td>  <td>0.8369</td>  <td>-1.172e-08</td>  <td>1.447e-08</td>\n",
       "</tr>\n",
       "<tr>\n",
       "  <th>Add'l income/expense items</th>                           <td>-1.49e-10</td> <td>1.904e-09</td> <td>-0.0782</td> <td>0.9377</td>  <td>-3.884e-09</td>  <td>3.587e-09</td>\n",
       "</tr>\n",
       "<tr>\n",
       "  <th>After Tax ROE</th>                                         <td>-0.0026</td>   <td>0.0034</td>   <td>-0.7535</td> <td>0.4513</td>    <td>-0.0093</td>    <td>0.0041</td>  \n",
       "</tr>\n",
       "<tr>\n",
       "  <th>Capital Expenditures</th>                                 <td>7.429e-08</td> <td>1.105e-07</td> <td>0.6721</td>  <td>0.5017</td>  <td>-1.426e-07</td>  <td>2.912e-07</td>\n",
       "</tr>\n",
       "<tr>\n",
       "  <th>Capital Surplus</th>                                     <td>-2.648e-10</td> <td>1.062e-09</td> <td>-0.2494</td> <td>0.8031</td>  <td>-2.348e-09</td>  <td>1.818e-09</td>\n",
       "</tr>\n",
       "<tr>\n",
       "  <th>Cash Ratio</th>                                            <td>0.0265</td>    <td>0.0766</td>   <td>0.3464</td>  <td>0.7291</td>    <td>-0.1237</td>    <td>0.1767</td>  \n",
       "</tr>\n",
       "<tr>\n",
       "  <th>Cash and Cash Equivalents</th>                           <td>-4.166e-08</td> <td>3.812e-08</td> <td>-1.0928</td> <td>0.2747</td>  <td>-1.165e-07</td>  <td>3.313e-08</td>\n",
       "</tr>\n",
       "<tr>\n",
       "  <th>Changes in Inventories</th>                               <td>1.178e-08</td> <td>5.94e-09</td>  <td>1.9831</td>  <td>0.0476</td>   <td>1.26e-10</td>   <td>2.343e-08</td>\n",
       "</tr>\n",
       "<tr>\n",
       "  <th>Common Stocks</th>                                       <td>-1.776e-10</td> <td>1.096e-09</td> <td>-0.1620</td> <td>0.8714</td>  <td>-2.329e-09</td>  <td>1.974e-09</td>\n",
       "</tr>\n",
       "<tr>\n",
       "  <th>Current Ratio</th>                                         <td>0.0249</td>    <td>0.0491</td>   <td>0.5067</td>  <td>0.6125</td>    <td>-0.0714</td>    <td>0.1212</td>  \n",
       "</tr>\n",
       "<tr>\n",
       "  <th>Deferred Asset Charges</th>                              <td>-2.827e-09</td> <td>1.394e-09</td> <td>-2.0287</td> <td>0.0427</td>  <td>-5.561e-09</td> <td>-9.306e-11</td>\n",
       "</tr>\n",
       "<tr>\n",
       "  <th>Deferred Liability Charges</th>                          <td>-4.402e-10</td> <td>2.302e-09</td> <td>-0.1912</td> <td>0.8484</td>  <td>-4.957e-09</td>  <td>4.077e-09</td>\n",
       "</tr>\n",
       "<tr>\n",
       "  <th>Depreciation</th>                                         <td>1.122e-08</td> <td>5.639e-09</td> <td>1.9895</td>  <td>0.0469</td>   <td>1.556e-10</td>  <td>2.228e-08</td>\n",
       "</tr>\n",
       "<tr>\n",
       "  <th>Earnings Before Interest and Tax</th>                     <td>1.317e-09</td> <td>2.875e-09</td> <td>0.4580</td>  <td>0.6470</td>  <td>-4.323e-09</td>  <td>6.957e-09</td>\n",
       "</tr>\n",
       "<tr>\n",
       "  <th>Effect of Exchange Rate</th>                              <td> 1.9e-08</td>  <td>1.693e-08</td> <td>1.1221</td>  <td>0.2620</td>  <td>-1.422e-08</td>  <td>5.221e-08</td>\n",
       "</tr>\n",
       "<tr>\n",
       "  <th>Equity Earnings/Loss Unconsolidated Subsidiary</th>       <td>1.536e-08</td> <td>2.492e-09</td> <td>6.1642</td>  <td>0.0000</td>   <td>1.047e-08</td>  <td>2.025e-08</td>\n",
       "</tr>\n",
       "<tr>\n",
       "  <th>Goodwill</th>                                             <td>4.589e-10</td> <td>4.286e-10</td> <td>1.0708</td>  <td>0.2845</td>  <td>-3.819e-10</td>  <td> 1.3e-09</td> \n",
       "</tr>\n",
       "<tr>\n",
       "  <th>Gross Margin</th>                                          <td>0.0562</td>    <td>0.1651</td>   <td>0.3405</td>  <td>0.7335</td>    <td>-0.2677</td>    <td>0.3801</td>  \n",
       "</tr>\n",
       "<tr>\n",
       "  <th>Gross Profit</th>                                         <td>1.754e-09</td> <td>5.488e-10</td> <td>3.1968</td>  <td>0.0014</td>   <td>6.777e-10</td>  <td>2.831e-09</td>\n",
       "</tr>\n",
       "<tr>\n",
       "  <th>Intangible Assets</th>                                    <td>7.942e-10</td> <td>7.899e-10</td> <td>1.0054</td>  <td>0.3149</td>  <td>-7.555e-10</td>  <td>2.344e-09</td>\n",
       "</tr>\n",
       "<tr>\n",
       "  <th>Interest Expense</th>                                    <td>-2.108e-08</td> <td>1.002e-08</td> <td>-2.1026</td> <td>0.0357</td>  <td>-4.075e-08</td>  <td>-1.41e-09</td>\n",
       "</tr>\n",
       "<tr>\n",
       "  <th>Inventory</th>                                            <td>-4.21e-08</td> <td>3.831e-08</td> <td>-1.0990</td> <td>0.2720</td>  <td>-1.173e-07</td>  <td>3.306e-08</td>\n",
       "</tr>\n",
       "<tr>\n",
       "  <th>Investments</th>                                          <td>7.282e-08</td> <td>1.112e-07</td> <td>0.6550</td>  <td>0.5126</td>  <td>-1.453e-07</td>  <td>2.909e-07</td>\n",
       "</tr>\n",
       "<tr>\n",
       "  <th>Liabilities</th>                                          <td>1.203e-08</td> <td>6.798e-09</td> <td>1.7701</td>  <td>0.0770</td>  <td>-1.304e-09</td>  <td>2.537e-08</td>\n",
       "</tr>\n",
       "<tr>\n",
       "  <th>Long-Term Debt</th>                                       <td>1.359e-09</td> <td>2.945e-09</td> <td>0.4615</td>  <td>0.6445</td>  <td>-4.418e-09</td>  <td>7.136e-09</td>\n",
       "</tr>\n",
       "<tr>\n",
       "  <th>Long-Term Investments</th>                                <td>1.696e-09</td> <td>4.247e-10</td> <td>3.9939</td>  <td>0.0001</td>   <td>8.629e-10</td>  <td>2.529e-09</td>\n",
       "</tr>\n",
       "<tr>\n",
       "  <th>Minority Interest</th>                                   <td>-6.134e-10</td> <td>3.486e-09</td> <td>-0.1760</td> <td>0.8603</td>  <td>-7.452e-09</td>  <td>6.225e-09</td>\n",
       "</tr>\n",
       "<tr>\n",
       "  <th>Misc. Stocks</th>                                        <td>-6.607e-09</td> <td>5.082e-09</td> <td>-1.3000</td> <td>0.1938</td>  <td>-1.658e-08</td>  <td>3.364e-09</td>\n",
       "</tr>\n",
       "<tr>\n",
       "  <th>Net Borrowings</th>                                      <td>-3.549e-09</td> <td>2.919e-09</td> <td>-1.2158</td> <td>0.2243</td>  <td>-9.277e-09</td>  <td>2.178e-09</td>\n",
       "</tr>\n",
       "<tr>\n",
       "  <th>Net Cash Flow</th>                                       <td>-3.669e-09</td> <td>6.162e-09</td> <td>-0.5954</td> <td>0.5517</td>  <td>-1.576e-08</td>  <td>8.421e-09</td>\n",
       "</tr>\n",
       "<tr>\n",
       "  <th>Net Cash Flows-Financing</th>                             <td>8.571e-09</td> <td>7.632e-09</td> <td>1.1231</td>  <td>0.2616</td>  <td>-6.402e-09</td>  <td>2.354e-08</td>\n",
       "</tr>\n",
       "<tr>\n",
       "  <th>Net Cash Flows-Investing</th>                            <td>-7.129e-08</td> <td>1.092e-07</td> <td>-0.6528</td> <td>0.5140</td>  <td>-2.855e-07</td>  <td>1.43e-07</td> \n",
       "</tr>\n",
       "<tr>\n",
       "  <th>Net Income</th>                                          <td>-1.314e-08</td> <td>8.443e-09</td> <td>-1.5566</td> <td>0.1198</td>  <td>-2.971e-08</td>  <td>3.422e-09</td>\n",
       "</tr>\n",
       "<tr>\n",
       "  <th>Net Income Adjustments</th>                               <td>3.491e-09</td> <td>4.304e-09</td> <td>0.8110</td>  <td>0.4175</td>  <td>-4.954e-09</td>  <td>1.194e-08</td>\n",
       "</tr>\n",
       "<tr>\n",
       "  <th>Net Receivables</th>                                      <td>-4.19e-08</td> <td>3.825e-08</td> <td>-1.0956</td> <td>0.2735</td>  <td>-1.169e-07</td>  <td>3.314e-08</td>\n",
       "</tr>\n",
       "<tr>\n",
       "  <th>Non-Recurring Items</th>                                  <td>4.65e-09</td>  <td>1.96e-09</td>  <td>2.3727</td>  <td>0.0178</td>   <td>8.051e-10</td>  <td>8.495e-09</td>\n",
       "</tr>\n",
       "<tr>\n",
       "  <th>Operating Margin</th>                                      <td>1.4710</td>    <td>0.4475</td>   <td>3.2874</td>  <td>0.0010</td>    <td>0.5931</td>     <td>2.3489</td>  \n",
       "</tr>\n",
       "<tr>\n",
       "  <th>Other Assets</th>                                         <td>3.918e-09</td> <td>1.599e-09</td> <td>2.4500</td>  <td>0.0144</td>   <td>7.806e-10</td>  <td>7.056e-09</td>\n",
       "</tr>\n",
       "<tr>\n",
       "  <th>Other Current Assets</th>                                <td>-4.642e-08</td> <td>3.901e-08</td> <td>-1.1898</td> <td>0.2344</td>   <td>-1.23e-07</td>  <td>3.013e-08</td>\n",
       "</tr>\n",
       "<tr>\n",
       "  <th>Other Current Liabilities</th>                            <td>1.914e-09</td> <td>3.024e-09</td> <td>0.6330</td>  <td>0.5268</td>  <td>-4.019e-09</td>  <td>7.848e-09</td>\n",
       "</tr>\n",
       "<tr>\n",
       "  <th>Other Equity</th>                                        <td>-1.219e-09</td> <td>1.211e-09</td> <td>-1.0064</td> <td>0.3144</td>  <td>-3.595e-09</td>  <td>1.157e-09</td>\n",
       "</tr>\n",
       "<tr>\n",
       "  <th>Other Financing Activities</th>                           <td>1.388e-09</td> <td>1.967e-09</td> <td>0.7055</td>  <td>0.4806</td>  <td>-2.471e-09</td>  <td>5.247e-09</td>\n",
       "</tr>\n",
       "<tr>\n",
       "  <th>Other Investing Activities</th>                           <td>7.486e-08</td> <td>1.119e-07</td> <td>0.6691</td>  <td>0.5036</td>  <td>-1.446e-07</td>  <td>2.944e-07</td>\n",
       "</tr>\n",
       "<tr>\n",
       "  <th>Other Liabilities</th>                                   <td>-1.506e-09</td> <td>3.241e-09</td> <td>-0.4646</td> <td>0.6423</td>  <td>-7.866e-09</td>  <td>4.853e-09</td>\n",
       "</tr>\n",
       "<tr>\n",
       "  <th>Other Operating Activities</th>                          <td>-9.303e-11</td> <td>4.527e-09</td> <td>-0.0206</td> <td>0.9836</td>  <td>-8.975e-09</td>  <td>8.789e-09</td>\n",
       "</tr>\n",
       "<tr>\n",
       "  <th>Other Operating Items</th>                               <td>-3.348e-10</td> <td>2.346e-09</td> <td>-0.1427</td> <td>0.8866</td>  <td>-4.937e-09</td>  <td>4.268e-09</td>\n",
       "</tr>\n",
       "<tr>\n",
       "  <th>Profit Margin</th>                                         <td>-0.7067</td>   <td>0.3414</td>   <td>-2.0701</td> <td>0.0387</td>    <td>-1.3764</td>    <td>-0.0369</td> \n",
       "</tr>\n",
       "<tr>\n",
       "  <th>Research and Development</th>                             <td>-1.05e-09</td> <td>2.375e-09</td> <td>-0.4420</td> <td>0.6586</td>   <td>-5.71e-09</td>  <td>3.61e-09</td> \n",
       "</tr>\n",
       "<tr>\n",
       "  <th>Retained Earnings</th>                                   <td>-1.605e-10</td> <td>8.708e-10</td> <td>-0.1843</td> <td>0.8538</td>  <td>-1.869e-09</td>  <td>1.548e-09</td>\n",
       "</tr>\n",
       "<tr>\n",
       "  <th>Sale and Purchase of Stock</th>                           <td>-3.88e-09</td> <td>3.14e-09</td>  <td>-1.2356</td> <td>0.2168</td>  <td>-1.004e-08</td>  <td>2.281e-09</td>\n",
       "</tr>\n",
       "<tr>\n",
       "  <th>Short-Term Debt / Current Portion of Long-Term Debt</th> <td>-8.722e-10</td> <td>2.522e-09</td> <td>-0.3458</td> <td>0.7295</td>  <td>-5.821e-09</td>  <td>4.076e-09</td>\n",
       "</tr>\n",
       "<tr>\n",
       "  <th>Short-Term Investments</th>                              <td>-4.089e-08</td> <td>3.811e-08</td> <td>-1.0729</td> <td>0.2835</td>  <td>-1.157e-07</td>  <td>3.388e-08</td>\n",
       "</tr>\n",
       "<tr>\n",
       "  <th>Total Assets</th>                                        <td>-7.931e-10</td> <td>3.083e-09</td> <td>-0.2572</td> <td>0.7970</td>  <td>-6.842e-09</td>  <td>5.256e-09</td>\n",
       "</tr>\n",
       "<tr>\n",
       "  <th>Total Current Assets</th>                                 <td>4.173e-08</td> <td>3.798e-08</td> <td>1.0987</td>  <td>0.2721</td>  <td>-3.279e-08</td>  <td>1.162e-07</td>\n",
       "</tr>\n",
       "<tr>\n",
       "  <th>Total Equity</th>                                         <td>5.706e-11</td> <td>3.277e-09</td> <td>0.0174</td>  <td>0.9861</td>  <td>-6.372e-09</td>  <td>6.486e-09</td>\n",
       "</tr>\n",
       "<tr>\n",
       "  <th>Total Revenue</th>                                       <td>-2.118e-10</td> <td>1.923e-10</td> <td>-1.1011</td> <td>0.2711</td>  <td>-5.891e-10</td>  <td>1.656e-10</td>\n",
       "</tr>\n",
       "<tr>\n",
       "  <th>Treasury Stock</th>                                      <td>-6.892e-10</td> <td>9.054e-10</td> <td>-0.7612</td> <td>0.4467</td>  <td>-2.466e-09</td>  <td>1.087e-09</td>\n",
       "</tr>\n",
       "<tr>\n",
       "  <th>Earnings Per Share</th>                                    <td>15.397</td>    <td>3.0084</td>   <td>5.1179</td>  <td>0.0000</td>    <td>9.4946</td>     <td>21.299</td>  \n",
       "</tr>\n",
       "<tr>\n",
       "  <th>Estimated Shares Outstanding</th>                         <td>7.76e-09</td>  <td>6.395e-09</td> <td>1.2135</td>  <td>0.2252</td>  <td>-4.786e-09</td>  <td>2.031e-08</td>\n",
       "</tr>\n",
       "</table><br/><br/>F-test for Poolability: 8.1570<br/>P-value: 0.0000<br/>Distribution: F(4,1223)<br/><br/>Included effects: Time"
      ],
      "text/plain": [
       "<class 'linearmodels.compat.statsmodels.Summary'>\n",
       "\"\"\"\n",
       "                          PanelOLS Estimation Summary                           \n",
       "================================================================================\n",
       "Dep. Variable:                  close   R-squared:                        0.6144\n",
       "Estimator:                   PanelOLS   R-squared (Between):              0.7020\n",
       "No. Observations:                1288   R-squared (Within):              -0.6222\n",
       "Date:                Wed, May 08 2019   R-squared (Overall):              0.6102\n",
       "Time:                        21:59:52   Log-likelihood                   -6894.7\n",
       "Cov. Estimator:             Clustered                                           \n",
       "                                        F-statistic:                      32.479\n",
       "Entities:                         359   P-value                           0.0000\n",
       "Avg Obs:                       3.5877   Distribution:                 F(60,1223)\n",
       "Min Obs:                       1.0000                                           \n",
       "Max Obs:                       4.0000   F-statistic (robust):            -27.194\n",
       "                                        P-value                           1.0000\n",
       "Time periods:                       5   Distribution:                 F(60,1223)\n",
       "Avg Obs:                       257.60                                           \n",
       "Min Obs:                       108.00                                           \n",
       "Max Obs:                       343.00                                           \n",
       "                                                                                \n",
       "                                                  Parameter Estimates                                                  \n",
       "=======================================================================================================================\n",
       "                                                     Parameter  Std. Err.     T-stat    P-value    Lower CI    Upper CI\n",
       "-----------------------------------------------------------------------------------------------------------------------\n",
       "const                                                  -1.8596     15.511    -0.1199     0.9046     -32.291      28.572\n",
       "Accounts Payable                                     3.767e-09  2.667e-09     1.4123     0.1581  -1.466e-09       9e-09\n",
       "Accounts Receivable                                  1.374e-09  6.673e-09     0.2059     0.8369  -1.172e-08   1.447e-08\n",
       "Add'l income/expense items                           -1.49e-10  1.904e-09    -0.0782     0.9377  -3.884e-09   3.587e-09\n",
       "After Tax ROE                                          -0.0026     0.0034    -0.7535     0.4513     -0.0093      0.0041\n",
       "Capital Expenditures                                 7.429e-08  1.105e-07     0.6721     0.5017  -1.426e-07   2.912e-07\n",
       "Capital Surplus                                     -2.648e-10  1.062e-09    -0.2494     0.8031  -2.348e-09   1.818e-09\n",
       "Cash Ratio                                              0.0265     0.0766     0.3464     0.7291     -0.1237      0.1767\n",
       "Cash and Cash Equivalents                           -4.166e-08  3.812e-08    -1.0928     0.2747  -1.165e-07   3.313e-08\n",
       "Changes in Inventories                               1.178e-08   5.94e-09     1.9831     0.0476    1.26e-10   2.343e-08\n",
       "Common Stocks                                       -1.776e-10  1.096e-09    -0.1620     0.8714  -2.329e-09   1.974e-09\n",
       "Current Ratio                                           0.0249     0.0491     0.5067     0.6125     -0.0714      0.1212\n",
       "Deferred Asset Charges                              -2.827e-09  1.394e-09    -2.0287     0.0427  -5.561e-09  -9.306e-11\n",
       "Deferred Liability Charges                          -4.402e-10  2.302e-09    -0.1912     0.8484  -4.957e-09   4.077e-09\n",
       "Depreciation                                         1.122e-08  5.639e-09     1.9895     0.0469   1.556e-10   2.228e-08\n",
       "Earnings Before Interest and Tax                     1.317e-09  2.875e-09     0.4580     0.6470  -4.323e-09   6.957e-09\n",
       "Effect of Exchange Rate                                1.9e-08  1.693e-08     1.1221     0.2620  -1.422e-08   5.221e-08\n",
       "Equity Earnings/Loss Unconsolidated Subsidiary       1.536e-08  2.492e-09     6.1642     0.0000   1.047e-08   2.025e-08\n",
       "Goodwill                                             4.589e-10  4.286e-10     1.0708     0.2845  -3.819e-10     1.3e-09\n",
       "Gross Margin                                            0.0562     0.1651     0.3405     0.7335     -0.2677      0.3801\n",
       "Gross Profit                                         1.754e-09  5.488e-10     3.1968     0.0014   6.777e-10   2.831e-09\n",
       "Intangible Assets                                    7.942e-10  7.899e-10     1.0054     0.3149  -7.555e-10   2.344e-09\n",
       "Interest Expense                                    -2.108e-08  1.002e-08    -2.1026     0.0357  -4.075e-08   -1.41e-09\n",
       "Inventory                                            -4.21e-08  3.831e-08    -1.0990     0.2720  -1.173e-07   3.306e-08\n",
       "Investments                                          7.282e-08  1.112e-07     0.6550     0.5126  -1.453e-07   2.909e-07\n",
       "Liabilities                                          1.203e-08  6.798e-09     1.7701     0.0770  -1.304e-09   2.537e-08\n",
       "Long-Term Debt                                       1.359e-09  2.945e-09     0.4615     0.6445  -4.418e-09   7.136e-09\n",
       "Long-Term Investments                                1.696e-09  4.247e-10     3.9939     0.0001   8.629e-10   2.529e-09\n",
       "Minority Interest                                   -6.134e-10  3.486e-09    -0.1760     0.8603  -7.452e-09   6.225e-09\n",
       "Misc. Stocks                                        -6.607e-09  5.082e-09    -1.3000     0.1938  -1.658e-08   3.364e-09\n",
       "Net Borrowings                                      -3.549e-09  2.919e-09    -1.2158     0.2243  -9.277e-09   2.178e-09\n",
       "Net Cash Flow                                       -3.669e-09  6.162e-09    -0.5954     0.5517  -1.576e-08   8.421e-09\n",
       "Net Cash Flows-Financing                             8.571e-09  7.632e-09     1.1231     0.2616  -6.402e-09   2.354e-08\n",
       "Net Cash Flows-Investing                            -7.129e-08  1.092e-07    -0.6528     0.5140  -2.855e-07    1.43e-07\n",
       "Net Income                                          -1.314e-08  8.443e-09    -1.5566     0.1198  -2.971e-08   3.422e-09\n",
       "Net Income Adjustments                               3.491e-09  4.304e-09     0.8110     0.4175  -4.954e-09   1.194e-08\n",
       "Net Receivables                                      -4.19e-08  3.825e-08    -1.0956     0.2735  -1.169e-07   3.314e-08\n",
       "Non-Recurring Items                                   4.65e-09   1.96e-09     2.3727     0.0178   8.051e-10   8.495e-09\n",
       "Operating Margin                                        1.4710     0.4475     3.2874     0.0010      0.5931      2.3489\n",
       "Other Assets                                         3.918e-09  1.599e-09     2.4500     0.0144   7.806e-10   7.056e-09\n",
       "Other Current Assets                                -4.642e-08  3.901e-08    -1.1898     0.2344   -1.23e-07   3.013e-08\n",
       "Other Current Liabilities                            1.914e-09  3.024e-09     0.6330     0.5268  -4.019e-09   7.848e-09\n",
       "Other Equity                                        -1.219e-09  1.211e-09    -1.0064     0.3144  -3.595e-09   1.157e-09\n",
       "Other Financing Activities                           1.388e-09  1.967e-09     0.7055     0.4806  -2.471e-09   5.247e-09\n",
       "Other Investing Activities                           7.486e-08  1.119e-07     0.6691     0.5036  -1.446e-07   2.944e-07\n",
       "Other Liabilities                                   -1.506e-09  3.241e-09    -0.4646     0.6423  -7.866e-09   4.853e-09\n",
       "Other Operating Activities                          -9.303e-11  4.527e-09    -0.0206     0.9836  -8.975e-09   8.789e-09\n",
       "Other Operating Items                               -3.348e-10  2.346e-09    -0.1427     0.8866  -4.937e-09   4.268e-09\n",
       "Profit Margin                                          -0.7067     0.3414    -2.0701     0.0387     -1.3764     -0.0369\n",
       "Research and Development                             -1.05e-09  2.375e-09    -0.4420     0.6586   -5.71e-09    3.61e-09\n",
       "Retained Earnings                                   -1.605e-10  8.708e-10    -0.1843     0.8538  -1.869e-09   1.548e-09\n",
       "Sale and Purchase of Stock                           -3.88e-09   3.14e-09    -1.2356     0.2168  -1.004e-08   2.281e-09\n",
       "Short-Term Debt / Current Portion of Long-Term Debt -8.722e-10  2.522e-09    -0.3458     0.7295  -5.821e-09   4.076e-09\n",
       "Short-Term Investments                              -4.089e-08  3.811e-08    -1.0729     0.2835  -1.157e-07   3.388e-08\n",
       "Total Assets                                        -7.931e-10  3.083e-09    -0.2572     0.7970  -6.842e-09   5.256e-09\n",
       "Total Current Assets                                 4.173e-08  3.798e-08     1.0987     0.2721  -3.279e-08   1.162e-07\n",
       "Total Equity                                         5.706e-11  3.277e-09     0.0174     0.9861  -6.372e-09   6.486e-09\n",
       "Total Revenue                                       -2.118e-10  1.923e-10    -1.1011     0.2711  -5.891e-10   1.656e-10\n",
       "Treasury Stock                                      -6.892e-10  9.054e-10    -0.7612     0.4467  -2.466e-09   1.087e-09\n",
       "Earnings Per Share                                      15.397     3.0084     5.1179     0.0000      9.4946      21.299\n",
       "Estimated Shares Outstanding                          7.76e-09  6.395e-09     1.2135     0.2252  -4.786e-09   2.031e-08\n",
       "=======================================================================================================================\n",
       "\n",
       "F-test for Poolability: 8.1570\n",
       "P-value: 0.0000\n",
       "Distribution: F(4,1223)\n",
       "\n",
       "Included effects: Time\n",
       "\"\"\""
      ]
     },
     "execution_count": 518,
     "metadata": {},
     "output_type": "execute_result"
    }
   ],
   "source": [
    "res1.summary"
   ]
  },
  {
   "cell_type": "code",
   "execution_count": 519,
   "metadata": {},
   "outputs": [],
   "source": [
    "pred=res1.predict()"
   ]
  },
  {
   "cell_type": "code",
   "execution_count": 514,
   "metadata": {},
   "outputs": [
    {
     "data": {
      "text/plain": [
       "51.877861965132716"
      ]
     },
     "execution_count": 514,
     "metadata": {},
     "output_type": "execute_result"
    }
   ],
   "source": [
    "rmse = np.sqrt(mean_squared_error(y.values, pred))\n",
    "rmse"
   ]
  },
  {
   "cell_type": "code",
   "execution_count": 515,
   "metadata": {},
   "outputs": [
    {
     "data": {
      "text/plain": [
       "<matplotlib.legend.Legend at 0x1c28656828>"
      ]
     },
     "execution_count": 515,
     "metadata": {},
     "output_type": "execute_result"
    },
    {
     "data": {
      "image/png": "[encoded data removed]",
      "text/plain": [
       "<Figure size 432x288 with 1 Axes>"
      ]
     },
     "metadata": {},
     "output_type": "display_data"
    }
   ],
   "source": [
    "plt.plot(pred.values,color=\"b\",label=\"y_pred\")\n",
    "plt.plot(y.values,color=\"r\",label=\"y_true\")\n",
    "plt.legend()\n"
   ]
  },
  {
   "cell_type": "code",
   "execution_count": 543,
   "metadata": {},
   "outputs": [
    {
     "data": {
      "text/plain": [
       "['Changes in Inventories',\n",
       " 'Deferred Asset Charges',\n",
       " 'Depreciation',\n",
       " 'Equity Earnings/Loss Unconsolidated Subsidiary',\n",
       " 'Gross Profit',\n",
       " 'Interest Expense',\n",
       " 'Long-Term Investments',\n",
       " 'Non-Recurring Items',\n",
       " 'Operating Margin',\n",
       " 'Other Assets',\n",
       " 'Profit Margin',\n",
       " 'Earnings Per Share']"
      ]
     },
     "execution_count": 543,
     "metadata": {},
     "output_type": "execute_result"
    }
   ],
   "source": [
    "sig=list(res1.pvalues[res1.pvalues<=0.05].index)\n",
    "sig"
   ]
  },
  {
   "cell_type": "code",
   "execution_count": 542,
   "metadata": {},
   "outputs": [
    {
     "name": "stdout",
     "output_type": "stream",
     "text": [
      "1.1779704959560429e-08\n",
      "-2.8272258632010046e-09\n",
      "1.1219759108905504e-08\n",
      "1.5363322068141716e-08\n",
      "1.7544687554447907e-09\n",
      "-2.107840340741703e-08\n",
      "1.6960549911137824e-09\n",
      "4.6502718290680756e-09\n",
      "1.4709875449519778\n",
      "3.9181966820373004e-09\n",
      "-0.7066620899171978\n",
      "15.396774790017828\n"
     ]
    }
   ],
   "source": [
    "for i in sig:\n",
    "    print(res1.params[i])"
   ]
  },
  {
   "cell_type": "code",
   "execution_count": null,
   "metadata": {},
   "outputs": [],
   "source": []
  }
 ],
 "metadata": {
  "kernelspec": {
   "display_name": "Python 3",
   "language": "python",
   "name": "python3"
  },
  "language_info": {
   "codemirror_mode": {
    "name": "ipython",
    "version": 3
   },
   "file_extension": ".py",
   "mimetype": "text/x-python",
   "name": "python",
   "nbconvert_exporter": "python",
   "pygments_lexer": "ipython3",
   "version": "3.6.5"
  }
 },
 "nbformat": 4,
 "nbformat_minor": 2
}
