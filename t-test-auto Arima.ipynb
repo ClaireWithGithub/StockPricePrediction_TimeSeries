{
 "cells": [
  {
   "cell_type": "markdown",
   "metadata": {},
   "source": [
    "Model1: Auto-Arima"
   ]
  },
  {
   "cell_type": "code",
   "execution_count": 22,
   "metadata": {},
   "outputs": [],
   "source": [
    "import pandas as pd\n",
    "import numpy as np\n",
    "\n",
    "import matplotlib.pyplot as plt\n",
    "%matplotlib inline"
   ]
  },
  {
   "cell_type": "code",
   "execution_count": 23,
   "metadata": {},
   "outputs": [],
   "source": [
    "from pyramid.arima import auto_arima"
   ]
  },
  {
   "cell_type": "code",
   "execution_count": 112,
   "metadata": {},
   "outputs": [],
   "source": [
    "#Read data file:\n",
    "df = pd.read_csv(\"prices-split-adjusted.csv\")"
   ]
  },
  {
   "cell_type": "code",
   "execution_count": 113,
   "metadata": {},
   "outputs": [
    {
     "data": {
      "text/html": [
       "<div>\n",
       "<style scoped>\n",
       "    .dataframe tbody tr th:only-of-type {\n",
       "        vertical-align: middle;\n",
       "    }\n",
       "\n",
       "    .dataframe tbody tr th {\n",
       "        vertical-align: top;\n",
       "    }\n",
       "\n",
       "    .dataframe thead th {\n",
       "        text-align: right;\n",
       "    }\n",
       "</style>\n",
       "<table border=\"1\" class=\"dataframe\">\n",
       "  <thead>\n",
       "    <tr style=\"text-align: right;\">\n",
       "      <th></th>\n",
       "      <th>date</th>\n",
       "      <th>symbol</th>\n",
       "      <th>open</th>\n",
       "      <th>close</th>\n",
       "      <th>low</th>\n",
       "      <th>high</th>\n",
       "      <th>volume</th>\n",
       "    </tr>\n",
       "  </thead>\n",
       "  <tbody>\n",
       "    <tr>\n",
       "      <th>0</th>\n",
       "      <td>2016-01-05</td>\n",
       "      <td>WLTW</td>\n",
       "      <td>123.430000</td>\n",
       "      <td>125.839996</td>\n",
       "      <td>122.309998</td>\n",
       "      <td>126.250000</td>\n",
       "      <td>2163600.0</td>\n",
       "    </tr>\n",
       "    <tr>\n",
       "      <th>1</th>\n",
       "      <td>2016-01-06</td>\n",
       "      <td>WLTW</td>\n",
       "      <td>125.239998</td>\n",
       "      <td>119.980003</td>\n",
       "      <td>119.940002</td>\n",
       "      <td>125.540001</td>\n",
       "      <td>2386400.0</td>\n",
       "    </tr>\n",
       "    <tr>\n",
       "      <th>2</th>\n",
       "      <td>2016-01-07</td>\n",
       "      <td>WLTW</td>\n",
       "      <td>116.379997</td>\n",
       "      <td>114.949997</td>\n",
       "      <td>114.930000</td>\n",
       "      <td>119.739998</td>\n",
       "      <td>2489500.0</td>\n",
       "    </tr>\n",
       "    <tr>\n",
       "      <th>3</th>\n",
       "      <td>2016-01-08</td>\n",
       "      <td>WLTW</td>\n",
       "      <td>115.480003</td>\n",
       "      <td>116.620003</td>\n",
       "      <td>113.500000</td>\n",
       "      <td>117.440002</td>\n",
       "      <td>2006300.0</td>\n",
       "    </tr>\n",
       "    <tr>\n",
       "      <th>4</th>\n",
       "      <td>2016-01-11</td>\n",
       "      <td>WLTW</td>\n",
       "      <td>117.010002</td>\n",
       "      <td>114.970001</td>\n",
       "      <td>114.089996</td>\n",
       "      <td>117.330002</td>\n",
       "      <td>1408600.0</td>\n",
       "    </tr>\n",
       "  </tbody>\n",
       "</table>\n",
       "</div>"
      ],
      "text/plain": [
       "         date symbol        open       close         low        high  \\\n",
       "0  2016-01-05   WLTW  123.430000  125.839996  122.309998  126.250000   \n",
       "1  2016-01-06   WLTW  125.239998  119.980003  119.940002  125.540001   \n",
       "2  2016-01-07   WLTW  116.379997  114.949997  114.930000  119.739998   \n",
       "3  2016-01-08   WLTW  115.480003  116.620003  113.500000  117.440002   \n",
       "4  2016-01-11   WLTW  117.010002  114.970001  114.089996  117.330002   \n",
       "\n",
       "      volume  \n",
       "0  2163600.0  \n",
       "1  2386400.0  \n",
       "2  2489500.0  \n",
       "3  2006300.0  \n",
       "4  1408600.0  "
      ]
     },
     "execution_count": 113,
     "metadata": {},
     "output_type": "execute_result"
    }
   ],
   "source": [
    "df.head()"
   ]
  },
  {
   "cell_type": "code",
   "execution_count": 120,
   "metadata": {},
   "outputs": [],
   "source": [
    "def cal_rmse(symbol):\n",
    "    df1 = df.loc[df.symbol==symbol]\n",
    "    data = df1.sort_values(by=['date'])\n",
    "        #setting index as date\n",
    "    data['date'] = pd.to_datetime(data.date,format='%Y-%m-%d')\n",
    "    data.index = data['date']\n",
    "\n",
    "    #divide into train and validation set\n",
    "    train = data[:int(0.75*(len(data)))]\n",
    "    valid = data[int(0.75*(len(data))):]\n",
    "\n",
    "    training = train['close']\n",
    "    validation = valid['close']\n",
    "\n",
    "    model = auto_arima(training, start_p=1, start_q=1,max_p=3, max_q=3, m=12,start_P=0, \n",
    "                       seasonal=True,d=1, D=1, trace=True,error_action='ignore',suppress_warnings=True)\n",
    "    model.fit(training)\n",
    "\n",
    "    n_periods = len(data) - int(0.75*(len(data)))\n",
    "    forecast = model.predict(n_periods,return_conf_int=True)\n",
    "    newData = pd.DataFrame(forecast[0],index = valid.index,columns=['Prediction'])\n",
    "    \n",
    "    rmse=np.sqrt(np.mean(np.power((np.array(valid['close'][-1])-np.array(newData['Prediction'][-1])),2)))\n",
    "\n",
    "    print(rmse)\n",
    "    \n",
    "    return rmse\n",
    "\n",
    "\n",
    "\n"
   ]
  },
  {
   "cell_type": "markdown",
   "metadata": {},
   "source": [
    "check length of dataset:"
   ]
  },
  {
   "cell_type": "code",
   "execution_count": 124,
   "metadata": {},
   "outputs": [
    {
     "name": "stdout",
     "output_type": "stream",
     "text": [
      "1762\n",
      "1762\n",
      "1762\n",
      "1762\n",
      "1762\n",
      "1762\n",
      "1762\n",
      "1762\n",
      "1762\n"
     ]
    }
   ],
   "source": [
    "for i in [\"AAPL\",\"AMZN\",\"MSFT\",\"GOOGL\",\"HPQ\",\"INTC\",\"IBM\",\"AAL\",\"TGT\"]:\n",
    "    df1 = df.loc[df.symbol==i]\n",
    "    print(len(df1))"
   ]
  },
  {
   "cell_type": "code",
   "execution_count": 129,
   "metadata": {},
   "outputs": [
    {
     "name": "stdout",
     "output_type": "stream",
     "text": [
      "Fit ARIMA: order=(1, 1, 1) seasonal_order=(0, 1, 1, 12); AIC=4231.931, BIC=4257.812, Fit time=3.789 seconds\n",
      "Fit ARIMA: order=(0, 1, 0) seasonal_order=(0, 1, 0, 12); AIC=5102.448, BIC=5112.800, Fit time=0.094 seconds\n",
      "Fit ARIMA: order=(1, 1, 0) seasonal_order=(1, 1, 0, 12); AIC=4696.587, BIC=4717.292, Fit time=0.756 seconds\n",
      "Fit ARIMA: order=(0, 1, 1) seasonal_order=(0, 1, 1, 12); AIC=4230.103, BIC=4250.808, Fit time=3.248 seconds\n",
      "Fit ARIMA: order=(0, 1, 1) seasonal_order=(1, 1, 1, 12); AIC=4231.536, BIC=4257.417, Fit time=4.802 seconds\n",
      "Fit ARIMA: order=(0, 1, 1) seasonal_order=(0, 1, 0, 12); AIC=5102.517, BIC=5118.046, Fit time=0.285 seconds\n",
      "Fit ARIMA: order=(0, 1, 1) seasonal_order=(0, 1, 2, 12); AIC=4231.554, BIC=4257.436, Fit time=15.465 seconds\n",
      "Fit ARIMA: order=(0, 1, 1) seasonal_order=(1, 1, 2, 12); AIC=4226.570, BIC=4257.627, Fit time=14.693 seconds\n",
      "Fit ARIMA: order=(1, 1, 1) seasonal_order=(1, 1, 2, 12); AIC=4228.468, BIC=4264.702, Fit time=23.814 seconds\n",
      "Fit ARIMA: order=(0, 1, 0) seasonal_order=(1, 1, 2, 12); AIC=4225.148, BIC=4251.029, Fit time=10.758 seconds\n",
      "Fit ARIMA: order=(0, 1, 0) seasonal_order=(0, 1, 2, 12); AIC=4230.015, BIC=4250.720, Fit time=10.409 seconds\n",
      "Fit ARIMA: order=(0, 1, 0) seasonal_order=(2, 1, 2, 12); AIC=4227.136, BIC=4258.194, Fit time=12.259 seconds\n",
      "Fit ARIMA: order=(0, 1, 0) seasonal_order=(1, 1, 1, 12); AIC=4229.995, BIC=4250.700, Fit time=4.771 seconds\n",
      "Fit ARIMA: order=(0, 1, 0) seasonal_order=(0, 1, 1, 12); AIC=4228.594, BIC=4244.122, Fit time=2.958 seconds\n",
      "Fit ARIMA: order=(1, 1, 0) seasonal_order=(1, 1, 2, 12); AIC=4226.590, BIC=4257.648, Fit time=10.514 seconds\n",
      "Total fit time: 118.623 seconds\n",
      "65.9481354550766\n",
      "Fit ARIMA: order=(1, 1, 1) seasonal_order=(0, 1, 1, 12); AIC=8028.990, BIC=8054.872, Fit time=4.859 seconds\n",
      "Fit ARIMA: order=(0, 1, 0) seasonal_order=(0, 1, 0, 12); AIC=8974.561, BIC=8984.913, Fit time=0.098 seconds\n",
      "Fit ARIMA: order=(1, 1, 0) seasonal_order=(1, 1, 0, 12); AIC=8543.120, BIC=8563.825, Fit time=2.187 seconds\n",
      "Fit ARIMA: order=(0, 1, 1) seasonal_order=(0, 1, 1, 12); AIC=8029.351, BIC=8050.056, Fit time=6.007 seconds\n",
      "Fit ARIMA: order=(1, 1, 1) seasonal_order=(1, 1, 1, 12); AIC=8025.577, BIC=8056.635, Fit time=5.320 seconds\n",
      "Fit ARIMA: order=(1, 1, 1) seasonal_order=(1, 1, 0, 12); AIC=8510.618, BIC=8536.499, Fit time=3.688 seconds\n",
      "Fit ARIMA: order=(1, 1, 1) seasonal_order=(1, 1, 2, 12); AIC=8028.817, BIC=8065.051, Fit time=12.596 seconds\n",
      "Fit ARIMA: order=(1, 1, 1) seasonal_order=(0, 1, 0, 12); AIC=8914.933, BIC=8935.638, Fit time=1.292 seconds\n",
      "Fit ARIMA: order=(1, 1, 1) seasonal_order=(2, 1, 2, 12); AIC=8029.333, BIC=8070.743, Fit time=24.707 seconds\n",
      "Fit ARIMA: order=(0, 1, 1) seasonal_order=(1, 1, 1, 12); AIC=8024.577, BIC=8050.458, Fit time=5.359 seconds\n",
      "Fit ARIMA: order=(0, 1, 0) seasonal_order=(1, 1, 1, 12); AIC=8022.642, BIC=8043.347, Fit time=3.230 seconds\n",
      "Fit ARIMA: order=(0, 1, 0) seasonal_order=(0, 1, 1, 12); AIC=8027.419, BIC=8042.948, Fit time=3.328 seconds\n",
      "Fit ARIMA: order=(0, 1, 0) seasonal_order=(2, 1, 1, 12); AIC=8024.525, BIC=8050.407, Fit time=11.336 seconds\n",
      "Fit ARIMA: order=(0, 1, 0) seasonal_order=(1, 1, 0, 12); AIC=8542.951, BIC=8558.480, Fit time=0.654 seconds\n",
      "Fit ARIMA: order=(0, 1, 0) seasonal_order=(1, 1, 2, 12); AIC=8024.531, BIC=8050.412, Fit time=18.143 seconds\n",
      "Fit ARIMA: order=(0, 1, 0) seasonal_order=(2, 1, 2, 12); AIC=8026.468, BIC=8057.526, Fit time=15.145 seconds\n",
      "Fit ARIMA: order=(1, 1, 0) seasonal_order=(1, 1, 1, 12); AIC=8024.581, BIC=8050.463, Fit time=4.048 seconds\n",
      "Total fit time: 122.006 seconds\n",
      "273.47840920501017\n",
      "Fit ARIMA: order=(1, 1, 1) seasonal_order=(0, 1, 1, 12); AIC=1755.597, BIC=1781.479, Fit time=3.554 seconds\n",
      "Fit ARIMA: order=(0, 1, 0) seasonal_order=(0, 1, 0, 12); AIC=2590.232, BIC=2600.585, Fit time=0.255 seconds\n",
      "Fit ARIMA: order=(1, 1, 0) seasonal_order=(1, 1, 0, 12); AIC=2212.685, BIC=2233.390, Fit time=1.151 seconds\n",
      "Fit ARIMA: order=(0, 1, 1) seasonal_order=(0, 1, 1, 12); AIC=1753.477, BIC=1774.182, Fit time=3.385 seconds\n",
      "Fit ARIMA: order=(0, 1, 1) seasonal_order=(1, 1, 1, 12); AIC=1755.417, BIC=1781.298, Fit time=3.303 seconds\n",
      "Fit ARIMA: order=(0, 1, 1) seasonal_order=(0, 1, 0, 12); AIC=2591.909, BIC=2607.438, Fit time=0.310 seconds\n",
      "Fit ARIMA: order=(0, 1, 1) seasonal_order=(0, 1, 2, 12); AIC=1755.428, BIC=1781.310, Fit time=9.216 seconds\n",
      "Fit ARIMA: order=(0, 1, 1) seasonal_order=(1, 1, 2, 12); AIC=1757.119, BIC=1788.176, Fit time=11.621 seconds\n",
      "Fit ARIMA: order=(0, 1, 0) seasonal_order=(0, 1, 1, 12); AIC=1752.079, BIC=1767.608, Fit time=2.134 seconds\n",
      "Fit ARIMA: order=(0, 1, 0) seasonal_order=(1, 1, 1, 12); AIC=1754.013, BIC=1774.718, Fit time=3.172 seconds\n",
      "Fit ARIMA: order=(0, 1, 0) seasonal_order=(0, 1, 2, 12); AIC=1754.015, BIC=1774.720, Fit time=13.364 seconds\n",
      "Fit ARIMA: order=(0, 1, 0) seasonal_order=(1, 1, 2, 12); AIC=1755.688, BIC=1781.569, Fit time=9.466 seconds\n",
      "Fit ARIMA: order=(1, 1, 0) seasonal_order=(0, 1, 1, 12); AIC=1753.472, BIC=1774.177, Fit time=3.514 seconds\n",
      "Total fit time: 64.448 seconds\n",
      "9.877945660619993\n",
      "Fit ARIMA: order=(1, 1, 1) seasonal_order=(0, 1, 1, 12); AIC=nan, BIC=nan, Fit time=nan seconds\n",
      "Fit ARIMA: order=(0, 1, 0) seasonal_order=(0, 1, 0, 12); AIC=9253.274, BIC=9263.627, Fit time=0.087 seconds\n",
      "Fit ARIMA: order=(1, 1, 0) seasonal_order=(1, 1, 0, 12); AIC=8866.610, BIC=8887.315, Fit time=0.938 seconds\n",
      "Fit ARIMA: order=(0, 1, 1) seasonal_order=(0, 1, 1, 12); AIC=8391.787, BIC=8412.492, Fit time=2.238 seconds\n",
      "Fit ARIMA: order=(0, 1, 1) seasonal_order=(1, 1, 1, 12); AIC=8393.532, BIC=8419.414, Fit time=2.402 seconds\n",
      "Fit ARIMA: order=(0, 1, 1) seasonal_order=(0, 1, 0, 12); AIC=9255.274, BIC=9270.803, Fit time=0.614 seconds\n",
      "Fit ARIMA: order=(0, 1, 1) seasonal_order=(0, 1, 2, 12); AIC=8393.534, BIC=8419.415, Fit time=8.521 seconds\n",
      "Fit ARIMA: order=(0, 1, 1) seasonal_order=(1, 1, 2, 12); AIC=8391.900, BIC=8422.957, Fit time=8.165 seconds\n",
      "Fit ARIMA: order=(0, 1, 0) seasonal_order=(0, 1, 1, 12); AIC=8389.967, BIC=8405.496, Fit time=1.452 seconds\n",
      "Fit ARIMA: order=(0, 1, 0) seasonal_order=(1, 1, 1, 12); AIC=8391.724, BIC=8412.429, Fit time=1.953 seconds\n",
      "Fit ARIMA: order=(0, 1, 0) seasonal_order=(0, 1, 2, 12); AIC=8391.726, BIC=8412.431, Fit time=6.354 seconds\n",
      "Fit ARIMA: order=(0, 1, 0) seasonal_order=(1, 1, 2, 12); AIC=8390.056, BIC=8415.938, Fit time=6.257 seconds\n",
      "Fit ARIMA: order=(1, 1, 0) seasonal_order=(0, 1, 1, 12); AIC=8391.783, BIC=8412.488, Fit time=1.968 seconds\n",
      "Total fit time: 40.955 seconds\n",
      "69.91952536584517\n",
      "Fit ARIMA: order=(1, 1, 1) seasonal_order=(0, 1, 1, 12); AIC=493.363, BIC=519.245, Fit time=10.967 seconds\n",
      "Fit ARIMA: order=(0, 1, 0) seasonal_order=(0, 1, 0, 12); AIC=1346.000, BIC=1356.352, Fit time=0.535 seconds\n",
      "Fit ARIMA: order=(1, 1, 0) seasonal_order=(1, 1, 0, 12); AIC=947.707, BIC=968.412, Fit time=2.089 seconds\n",
      "Fit ARIMA: order=(0, 1, 1) seasonal_order=(0, 1, 1, 12); AIC=490.724, BIC=511.429, Fit time=5.959 seconds\n",
      "Fit ARIMA: order=(0, 1, 1) seasonal_order=(1, 1, 1, 12); AIC=492.742, BIC=518.623, Fit time=6.906 seconds\n",
      "Fit ARIMA: order=(0, 1, 1) seasonal_order=(0, 1, 0, 12); AIC=1347.325, BIC=1362.854, Fit time=0.375 seconds\n",
      "Fit ARIMA: order=(0, 1, 1) seasonal_order=(0, 1, 2, 12); AIC=492.714, BIC=518.596, Fit time=20.572 seconds\n",
      "Fit ARIMA: order=(0, 1, 1) seasonal_order=(1, 1, 2, 12); AIC=490.192, BIC=521.250, Fit time=24.779 seconds\n",
      "Fit ARIMA: order=(1, 1, 1) seasonal_order=(1, 1, 2, 12); AIC=492.912, BIC=529.146, Fit time=43.018 seconds\n",
      "Fit ARIMA: order=(0, 1, 0) seasonal_order=(1, 1, 2, 12); AIC=488.839, BIC=514.721, Fit time=21.008 seconds\n",
      "Fit ARIMA: order=(0, 1, 0) seasonal_order=(0, 1, 2, 12); AIC=491.378, BIC=512.083, Fit time=13.396 seconds\n",
      "Fit ARIMA: order=(0, 1, 0) seasonal_order=(2, 1, 2, 12); AIC=490.726, BIC=521.784, Fit time=22.253 seconds\n",
      "Fit ARIMA: order=(0, 1, 0) seasonal_order=(1, 1, 1, 12); AIC=491.376, BIC=512.081, Fit time=5.776 seconds\n",
      "Fit ARIMA: order=(0, 1, 0) seasonal_order=(0, 1, 1, 12); AIC=489.382, BIC=504.911, Fit time=2.957 seconds\n",
      "Fit ARIMA: order=(1, 1, 0) seasonal_order=(1, 1, 2, 12); AIC=491.378, BIC=522.436, Fit time=12.869 seconds\n",
      "Total fit time: 193.485 seconds\n",
      "8.39255027034898\n",
      "Fit ARIMA: order=(1, 1, 1) seasonal_order=(0, 1, 1, 12); AIC=1210.357, BIC=1236.238, Fit time=4.660 seconds\n"
     ]
    },
    {
     "name": "stdout",
     "output_type": "stream",
     "text": [
      "Fit ARIMA: order=(0, 1, 0) seasonal_order=(0, 1, 0, 12); AIC=2063.679, BIC=2074.032, Fit time=0.663 seconds\n",
      "Fit ARIMA: order=(1, 1, 0) seasonal_order=(1, 1, 0, 12); AIC=1678.143, BIC=1698.848, Fit time=1.053 seconds\n",
      "Fit ARIMA: order=(0, 1, 1) seasonal_order=(0, 1, 1, 12); AIC=1206.390, BIC=1227.095, Fit time=4.369 seconds\n",
      "Fit ARIMA: order=(0, 1, 1) seasonal_order=(1, 1, 1, 12); AIC=1208.011, BIC=1233.892, Fit time=4.719 seconds\n",
      "Fit ARIMA: order=(0, 1, 1) seasonal_order=(0, 1, 0, 12); AIC=2064.696, BIC=2080.224, Fit time=0.310 seconds\n",
      "Fit ARIMA: order=(0, 1, 1) seasonal_order=(0, 1, 2, 12); AIC=1208.003, BIC=1233.884, Fit time=25.125 seconds\n",
      "Fit ARIMA: order=(0, 1, 1) seasonal_order=(1, 1, 2, 12); AIC=1208.779, BIC=1239.837, Fit time=18.443 seconds\n",
      "Fit ARIMA: order=(0, 1, 0) seasonal_order=(0, 1, 1, 12); AIC=1206.447, BIC=1221.976, Fit time=2.995 seconds\n",
      "Fit ARIMA: order=(0, 1, 2) seasonal_order=(0, 1, 1, 12); AIC=1208.159, BIC=1234.040, Fit time=5.860 seconds\n",
      "Fit ARIMA: order=(1, 1, 2) seasonal_order=(0, 1, 1, 12); AIC=1210.061, BIC=1241.118, Fit time=8.232 seconds\n",
      "Total fit time: 76.440 seconds\n",
      "1.1382937990854387\n",
      "Fit ARIMA: order=(1, 1, 1) seasonal_order=(0, 1, 1, 12); AIC=nan, BIC=nan, Fit time=nan seconds\n",
      "Fit ARIMA: order=(0, 1, 0) seasonal_order=(0, 1, 0, 12); AIC=6542.444, BIC=6552.796, Fit time=0.150 seconds\n",
      "Fit ARIMA: order=(1, 1, 0) seasonal_order=(1, 1, 0, 12); AIC=6168.852, BIC=6189.557, Fit time=1.088 seconds\n",
      "Fit ARIMA: order=(0, 1, 1) seasonal_order=(0, 1, 1, 12); AIC=5666.125, BIC=5686.830, Fit time=3.875 seconds\n",
      "Fit ARIMA: order=(0, 1, 1) seasonal_order=(1, 1, 1, 12); AIC=5667.441, BIC=5693.322, Fit time=3.984 seconds\n",
      "Fit ARIMA: order=(0, 1, 1) seasonal_order=(0, 1, 0, 12); AIC=6544.313, BIC=6559.842, Fit time=0.273 seconds\n",
      "Fit ARIMA: order=(0, 1, 1) seasonal_order=(0, 1, 2, 12); AIC=5667.414, BIC=5693.296, Fit time=11.723 seconds\n",
      "Fit ARIMA: order=(0, 1, 1) seasonal_order=(1, 1, 2, 12); AIC=5669.061, BIC=5700.118, Fit time=17.529 seconds\n",
      "Fit ARIMA: order=(0, 1, 0) seasonal_order=(0, 1, 1, 12); AIC=5664.146, BIC=5679.675, Fit time=2.967 seconds\n",
      "Fit ARIMA: order=(0, 1, 0) seasonal_order=(1, 1, 1, 12); AIC=5665.468, BIC=5686.173, Fit time=5.150 seconds\n",
      "Fit ARIMA: order=(0, 1, 0) seasonal_order=(0, 1, 2, 12); AIC=5665.442, BIC=5686.147, Fit time=14.530 seconds\n",
      "Fit ARIMA: order=(0, 1, 0) seasonal_order=(1, 1, 2, 12); AIC=5667.249, BIC=5693.130, Fit time=8.254 seconds\n",
      "Fit ARIMA: order=(1, 1, 0) seasonal_order=(0, 1, 1, 12); AIC=5666.124, BIC=5686.829, Fit time=3.143 seconds\n",
      "Total fit time: 72.685 seconds\n",
      "70.49262793274683\n",
      "Fit ARIMA: order=(1, 1, 1) seasonal_order=(0, 1, 1, 12); AIC=2338.156, BIC=2364.037, Fit time=6.364 seconds\n",
      "Fit ARIMA: order=(0, 1, 0) seasonal_order=(0, 1, 0, 12); AIC=3181.674, BIC=3192.026, Fit time=0.181 seconds\n",
      "Fit ARIMA: order=(1, 1, 0) seasonal_order=(1, 1, 0, 12); AIC=2821.147, BIC=2841.852, Fit time=2.041 seconds\n",
      "Fit ARIMA: order=(0, 1, 1) seasonal_order=(0, 1, 1, 12); AIC=2337.163, BIC=2357.868, Fit time=3.007 seconds\n",
      "Fit ARIMA: order=(0, 1, 1) seasonal_order=(1, 1, 1, 12); AIC=2338.827, BIC=2364.709, Fit time=3.865 seconds\n",
      "Fit ARIMA: order=(0, 1, 1) seasonal_order=(0, 1, 0, 12); AIC=3181.988, BIC=3197.517, Fit time=0.304 seconds\n",
      "Fit ARIMA: order=(0, 1, 1) seasonal_order=(0, 1, 2, 12); AIC=2338.807, BIC=2364.689, Fit time=9.192 seconds\n",
      "Fit ARIMA: order=(0, 1, 1) seasonal_order=(1, 1, 2, 12); AIC=2339.366, BIC=2370.424, Fit time=18.801 seconds\n",
      "Fit ARIMA: order=(0, 1, 0) seasonal_order=(0, 1, 1, 12); AIC=2338.803, BIC=2354.332, Fit time=2.106 seconds\n",
      "Fit ARIMA: order=(0, 1, 2) seasonal_order=(0, 1, 1, 12); AIC=2334.009, BIC=2359.890, Fit time=4.878 seconds\n",
      "Fit ARIMA: order=(1, 1, 3) seasonal_order=(0, 1, 1, 12); AIC=2335.332, BIC=2371.566, Fit time=8.340 seconds\n",
      "Fit ARIMA: order=(0, 1, 2) seasonal_order=(1, 1, 1, 12); AIC=2335.785, BIC=2366.843, Fit time=4.662 seconds\n",
      "Fit ARIMA: order=(0, 1, 2) seasonal_order=(0, 1, 0, 12); AIC=3173.136, BIC=3193.841, Fit time=0.492 seconds\n",
      "Fit ARIMA: order=(0, 1, 2) seasonal_order=(0, 1, 2, 12); AIC=2335.773, BIC=2366.831, Fit time=15.879 seconds\n",
      "Fit ARIMA: order=(0, 1, 2) seasonal_order=(1, 1, 2, 12); AIC=2336.302, BIC=2372.535, Fit time=19.341 seconds\n",
      "Fit ARIMA: order=(1, 1, 2) seasonal_order=(0, 1, 1, 12); AIC=2334.734, BIC=2365.792, Fit time=5.459 seconds\n",
      "Fit ARIMA: order=(0, 1, 3) seasonal_order=(0, 1, 1, 12); AIC=2333.787, BIC=2364.844, Fit time=5.743 seconds\n",
      "Fit ARIMA: order=(0, 1, 3) seasonal_order=(1, 1, 1, 12); AIC=2335.624, BIC=2371.858, Fit time=6.286 seconds\n",
      "Fit ARIMA: order=(0, 1, 3) seasonal_order=(0, 1, 0, 12); AIC=3170.814, BIC=3196.696, Fit time=0.442 seconds\n",
      "Fit ARIMA: order=(0, 1, 3) seasonal_order=(0, 1, 2, 12); AIC=2335.617, BIC=2371.851, Fit time=24.058 seconds\n",
      "Fit ARIMA: order=(0, 1, 3) seasonal_order=(1, 1, 2, 12); AIC=2336.802, BIC=2378.212, Fit time=30.082 seconds\n",
      "Total fit time: 171.541 seconds\n",
      "38.99123526784899\n",
      "Fit ARIMA: order=(1, 1, 1) seasonal_order=(0, 1, 1, 12); AIC=2879.619, BIC=2905.500, Fit time=3.470 seconds\n",
      "Fit ARIMA: order=(0, 1, 0) seasonal_order=(0, 1, 0, 12); AIC=3699.138, BIC=3709.490, Fit time=0.395 seconds\n",
      "Fit ARIMA: order=(1, 1, 0) seasonal_order=(1, 1, 0, 12); AIC=3352.378, BIC=3373.083, Fit time=0.961 seconds\n",
      "Fit ARIMA: order=(0, 1, 1) seasonal_order=(0, 1, 1, 12); AIC=2877.817, BIC=2898.522, Fit time=3.953 seconds\n",
      "Fit ARIMA: order=(0, 1, 1) seasonal_order=(1, 1, 1, 12); AIC=2878.623, BIC=2904.504, Fit time=4.954 seconds\n",
      "Fit ARIMA: order=(0, 1, 1) seasonal_order=(0, 1, 0, 12); AIC=3688.917, BIC=3704.445, Fit time=0.308 seconds\n",
      "Fit ARIMA: order=(0, 1, 1) seasonal_order=(0, 1, 2, 12); AIC=2878.594, BIC=2904.475, Fit time=19.264 seconds\n",
      "Fit ARIMA: order=(0, 1, 1) seasonal_order=(1, 1, 2, 12); AIC=2879.308, BIC=2910.366, Fit time=21.336 seconds\n",
      "Fit ARIMA: order=(0, 1, 0) seasonal_order=(0, 1, 1, 12); AIC=2882.404, BIC=2897.933, Fit time=3.871 seconds\n",
      "Fit ARIMA: order=(0, 1, 2) seasonal_order=(0, 1, 1, 12); AIC=2879.656, BIC=2905.537, Fit time=7.039 seconds\n",
      "Fit ARIMA: order=(1, 1, 2) seasonal_order=(0, 1, 1, 12); AIC=2890.279, BIC=2921.337, Fit time=6.396 seconds\n",
      "Total fit time: 71.964 seconds\n",
      "38.82516901958185\n"
     ]
    }
   ],
   "source": [
    "for i in [\"AAPL\",\"AMZN\",\"MSFT\",\"GOOGL\",\"HPQ\",\"INTC\",\"IBM\",\"AAL\",\"TGT\"]:\n",
    "    cal_rmse(i)"
   ]
  },
  {
   "cell_type": "markdown",
   "metadata": {},
   "source": [
    "### T-value Calculation:"
   ]
  },
  {
   "cell_type": "markdown",
   "metadata": {},
   "source": [
    "RMSE of Auto Arima:"
   ]
  },
  {
   "cell_type": "code",
   "execution_count": 130,
   "metadata": {},
   "outputs": [],
   "source": [
    "a=[65.9481,273.4784,9.8779,69.9195,8.3926,1.1383,70.4926,38.9912,38.8252]"
   ]
  },
  {
   "cell_type": "markdown",
   "metadata": {},
   "source": [
    "RMSE of LSTM:"
   ]
  },
  {
   "cell_type": "code",
   "execution_count": 141,
   "metadata": {},
   "outputs": [],
   "source": [
    "l = [62.7955,588.5752,5.8464,670.1417,36.709,16.2770,104.4295,9.7578,26.1399]"
   ]
  },
  {
   "cell_type": "code",
   "execution_count": 158,
   "metadata": {},
   "outputs": [],
   "source": [
    "import numpy as np"
   ]
  },
  {
   "cell_type": "code",
   "execution_count": 154,
   "metadata": {},
   "outputs": [],
   "source": [
    "ll = []\n",
    "for i in a:\n",
    "    ll.append((i-np.mean(a))**2)\n",
    "s1 = np.sum(ll)/(9-1)"
   ]
  },
  {
   "cell_type": "code",
   "execution_count": 155,
   "metadata": {},
   "outputs": [],
   "source": [
    "ll = []\n",
    "for i in l:\n",
    "    ll.append((i-np.mean(l))**2)\n",
    "s2 = np.sum(ll)/(9-1)"
   ]
  },
  {
   "cell_type": "code",
   "execution_count": 156,
   "metadata": {},
   "outputs": [],
   "source": [
    "t = (np.mean(a)+np.mean(l))/np.sqrt((s1+s2)/9)"
   ]
  },
  {
   "cell_type": "code",
   "execution_count": 157,
   "metadata": {},
   "outputs": [
    {
     "data": {
      "text/plain": [
       "2.5301102355951217"
      ]
     },
     "execution_count": 157,
     "metadata": {},
     "output_type": "execute_result"
    }
   ],
   "source": [
    "t"
   ]
  },
  {
   "cell_type": "markdown",
   "metadata": {},
   "source": [
    "Therefore p-value = 0.02 from the t-value table."
   ]
  },
  {
   "cell_type": "code",
   "execution_count": null,
   "metadata": {},
   "outputs": [],
   "source": []
  }
 ],
 "metadata": {
  "kernelspec": {
   "display_name": "Python 3",
   "language": "python",
   "name": "python3"
  },
  "language_info": {
   "codemirror_mode": {
    "name": "ipython",
    "version": 3
   },
   "file_extension": ".py",
   "mimetype": "text/x-python",
   "name": "python",
   "nbconvert_exporter": "python",
   "pygments_lexer": "ipython3",
   "version": "3.6.5"
  }
 },
 "nbformat": 4,
 "nbformat_minor": 2
}
